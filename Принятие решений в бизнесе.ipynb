{
 "cells": [
  {
   "cell_type": "markdown",
   "metadata": {},
   "source": [
    "# Проект: Принятие решений в бизнесе"
   ]
  },
  {
   "cell_type": "markdown",
   "metadata": {},
   "source": [
    "    Совместно с отделом маркетинга подготовлен список гипотез для увеличения выручки крупного интернет-магазина. Наобходимо приоретизировать гипотезы, провести A/B тест и проанализировать результаты."
   ]
  },
  {
   "cell_type": "markdown",
   "metadata": {},
   "source": [
    "**Описание данных:**\n",
    "\n",
    "**Данные для порвой части**\n",
    "\n",
    "Файл /datasets/hypothesis.csv. \n",
    "\n",
    "``Hypothesis`` — краткое описание гипотезы;\n",
    "\n",
    "``Reach`` — охват пользователей по 10-балльной шкале;\n",
    "\n",
    "``Impact`` — влияние на пользователей по 10-балльной шкале;\n",
    "\n",
    "``Confidence`` — уверенность в гипотезе по 10-балльной шкале;\n",
    "\n",
    "``Efforts`` — затраты ресурсов на проверку гипотезы по 10-балльной шкале. Чем больше значение Efforts, тем дороже проверка гипотезы.\n",
    "\n",
    "**Данные для второй части**\n",
    "\n",
    "Файл ``/datasets/orders.csv``. Скачать датасет\n",
    "\n",
    "``transactionId`` — идентификатор заказа;\n",
    "\n",
    "``visitorId`` — идентификатор пользователя, совершившего заказ;\n",
    "\n",
    "``date`` — дата, когда был совершён заказ;\n",
    "\n",
    "``revenue`` — выручка заказа;\n",
    "\n",
    "``group`` — группа A/B-теста, в которую попал заказ.\n",
    "\n",
    "Файл ``/datasets/visitors.csv``. Скачать датасет\n",
    "\n",
    "``date`` — дата;\n",
    "\n",
    "``group`` — группа A/B-теста;\n",
    "\n",
    "``visitors`` — количество пользователей в указанную дату в указанной группе A/B-теста"
   ]
  },
  {
   "cell_type": "markdown",
   "metadata": {},
   "source": [
    "# План\n",
    "\n",
    "1. Приоритизация гипотез.\n",
    "\n",
    "1.1. Загрузка данных  ``'/datasets/hypothesis.csv'``  \n",
    "\n",
    "1.2. Приоретизация гипотез\n",
    "\n",
    "- Применение фреймворка ``ICE``\n",
    "\n",
    "- Применение фреймворка ``RICE``\n",
    "\n",
    "\n",
    "2. Анализ A/B-теста\n",
    "\n",
    "2.1. Загрузка данных ``'/datasets/orders.csv'`` , ``'/datasets/visitors.csv'``\n",
    "\n",
    "2.2. Предобработка данных\n",
    "\n",
    "2.3. График кумулятивной выручки по группам\n",
    "\n",
    "2.4. График кумулятивного среднего чека по группам.\n",
    "\n",
    "2.5. График относительного изменения кумулятивного среднего чека группы B к группе A.\n",
    "\n",
    "2.6. График кумулятивного среднего количества заказов на посетителя по группам. \n",
    "\n",
    "2.7. График относительного изменения кумулятивного среднего количества заказов на посетителя группы B к группе A.\n",
    "\n",
    "2.8. Точечный график количества заказов по пользователям.\n",
    "\n",
    "2.9. Расчет 95-й и 99-й перцентилей количества заказов на пользователя.\n",
    "\n",
    "2.10. Точечный график стоимостей заказов.\n",
    "\n",
    "2.11. Расчет 95-й и 99-й перцентилей стоимости заказов.\n",
    "\n",
    "2.12. Расчет статистической значимости различий в среднем количестве заказов на посетителя между группами по «сырым» данным.\n",
    "\n",
    "2.13. Расчет статистической значимости различий в среднем чеке заказа между группами по «сырым» данным.\n",
    "\n",
    "2.14. Расчет статистической значимости различий в среднем количестве заказов на посетителя между группами по «очищенным» данным. \n",
    "\n",
    "2.15. Расчет статистической значимости различий в среднем чеке заказа между группами по «очищенным» данным.\n",
    "\n",
    "2.16. График кумулятивной выручки по группам  по очищенным данным\n",
    "\n",
    "2.17.  График кумулятивного среднего чека по группам по очищенным данным\n",
    "\n",
    "2.18.  График относительного изменения кумулятивного среднего чека группы B к группе A по очищенным данным\n",
    "\n",
    "3. Итоги "
   ]
  },
  {
   "cell_type": "markdown",
   "metadata": {},
   "source": [
    "## Приоритизация гипотез."
   ]
  },
  {
   "cell_type": "markdown",
   "metadata": {},
   "source": [
    "### Загрузка данных"
   ]
  },
  {
   "cell_type": "code",
   "execution_count": 1,
   "metadata": {},
   "outputs": [],
   "source": [
    "import pandas as pd\n",
    "import matplotlib.pyplot as plt\n",
    "import numpy as np\n",
    "import seaborn as sns\n",
    "import scipy.stats as st\n",
    "import math as math\n",
    "import datetime as dt\n",
    "\n",
    "from scipy.stats import poisson\n",
    "from math import factorial\n",
    "from math import sqrt\n",
    "from scipy.stats import binom\n",
    "\n",
    "pd.set_option('display.max_colwidth', 400)\n"
   ]
  },
  {
   "cell_type": "code",
   "execution_count": 2,
   "metadata": {},
   "outputs": [],
   "source": [
    "hypothesis = pd.read_csv('/datasets/hypothesis.csv')\n"
   ]
  },
  {
   "cell_type": "code",
   "execution_count": 3,
   "metadata": {},
   "outputs": [
    {
     "data": {
      "text/html": [
       "<div>\n",
       "<style scoped>\n",
       "    .dataframe tbody tr th:only-of-type {\n",
       "        vertical-align: middle;\n",
       "    }\n",
       "\n",
       "    .dataframe tbody tr th {\n",
       "        vertical-align: top;\n",
       "    }\n",
       "\n",
       "    .dataframe thead th {\n",
       "        text-align: right;\n",
       "    }\n",
       "</style>\n",
       "<table border=\"1\" class=\"dataframe\">\n",
       "  <thead>\n",
       "    <tr style=\"text-align: right;\">\n",
       "      <th></th>\n",
       "      <th>Hypothesis</th>\n",
       "      <th>Reach</th>\n",
       "      <th>Impact</th>\n",
       "      <th>Confidence</th>\n",
       "      <th>Efforts</th>\n",
       "    </tr>\n",
       "  </thead>\n",
       "  <tbody>\n",
       "    <tr>\n",
       "      <th>0</th>\n",
       "      <td>Добавить два новых канала привлечения трафика, что позволит привлекать на 30% больше пользователей</td>\n",
       "      <td>3</td>\n",
       "      <td>10</td>\n",
       "      <td>8</td>\n",
       "      <td>6</td>\n",
       "    </tr>\n",
       "    <tr>\n",
       "      <th>1</th>\n",
       "      <td>Запустить собственную службу доставки, что сократит срок доставки заказов</td>\n",
       "      <td>2</td>\n",
       "      <td>5</td>\n",
       "      <td>4</td>\n",
       "      <td>10</td>\n",
       "    </tr>\n",
       "    <tr>\n",
       "      <th>2</th>\n",
       "      <td>Добавить блоки рекомендаций товаров на сайт интернет магазина, чтобы повысить конверсию и средний чек заказа</td>\n",
       "      <td>8</td>\n",
       "      <td>3</td>\n",
       "      <td>7</td>\n",
       "      <td>3</td>\n",
       "    </tr>\n",
       "    <tr>\n",
       "      <th>3</th>\n",
       "      <td>Изменить структура категорий, что увеличит конверсию, т.к. пользователи быстрее найдут нужный товар</td>\n",
       "      <td>8</td>\n",
       "      <td>3</td>\n",
       "      <td>3</td>\n",
       "      <td>8</td>\n",
       "    </tr>\n",
       "    <tr>\n",
       "      <th>4</th>\n",
       "      <td>Изменить цвет фона главной страницы, чтобы увеличить вовлеченность пользователей</td>\n",
       "      <td>3</td>\n",
       "      <td>1</td>\n",
       "      <td>1</td>\n",
       "      <td>1</td>\n",
       "    </tr>\n",
       "  </tbody>\n",
       "</table>\n",
       "</div>"
      ],
      "text/plain": [
       "                                                                                                     Hypothesis  \\\n",
       "0            Добавить два новых канала привлечения трафика, что позволит привлекать на 30% больше пользователей   \n",
       "1                                     Запустить собственную службу доставки, что сократит срок доставки заказов   \n",
       "2  Добавить блоки рекомендаций товаров на сайт интернет магазина, чтобы повысить конверсию и средний чек заказа   \n",
       "3           Изменить структура категорий, что увеличит конверсию, т.к. пользователи быстрее найдут нужный товар   \n",
       "4                              Изменить цвет фона главной страницы, чтобы увеличить вовлеченность пользователей   \n",
       "\n",
       "   Reach  Impact  Confidence  Efforts  \n",
       "0      3      10           8        6  \n",
       "1      2       5           4       10  \n",
       "2      8       3           7        3  \n",
       "3      8       3           3        8  \n",
       "4      3       1           1        1  "
      ]
     },
     "metadata": {},
     "output_type": "display_data"
    },
    {
     "name": "stdout",
     "output_type": "stream",
     "text": [
      "<class 'pandas.core.frame.DataFrame'>\n",
      "RangeIndex: 9 entries, 0 to 8\n",
      "Data columns (total 5 columns):\n",
      " #   Column      Non-Null Count  Dtype \n",
      "---  ------      --------------  ----- \n",
      " 0   Hypothesis  9 non-null      object\n",
      " 1   Reach       9 non-null      int64 \n",
      " 2   Impact      9 non-null      int64 \n",
      " 3   Confidence  9 non-null      int64 \n",
      " 4   Efforts     9 non-null      int64 \n",
      "dtypes: int64(4), object(1)\n",
      "memory usage: 488.0+ bytes\n"
     ]
    }
   ],
   "source": [
    "display(hypothesis.head(5))\n",
    "\n",
    "hypothesis.info()"
   ]
  },
  {
   "cell_type": "code",
   "execution_count": 4,
   "metadata": {},
   "outputs": [],
   "source": [
    "hypothesis.columns = ['hypothesis','reach','impact', 'confidence', 'efforts']"
   ]
  },
  {
   "cell_type": "markdown",
   "metadata": {},
   "source": [
    "### Приоретизация гипотез"
   ]
  },
  {
   "cell_type": "markdown",
   "metadata": {},
   "source": [
    "**Применение фреймворка ``ICE``**"
   ]
  },
  {
   "cell_type": "code",
   "execution_count": 5,
   "metadata": {},
   "outputs": [
    {
     "data": {
      "text/html": [
       "<div>\n",
       "<style scoped>\n",
       "    .dataframe tbody tr th:only-of-type {\n",
       "        vertical-align: middle;\n",
       "    }\n",
       "\n",
       "    .dataframe tbody tr th {\n",
       "        vertical-align: top;\n",
       "    }\n",
       "\n",
       "    .dataframe thead th {\n",
       "        text-align: right;\n",
       "    }\n",
       "</style>\n",
       "<table border=\"1\" class=\"dataframe\">\n",
       "  <thead>\n",
       "    <tr style=\"text-align: right;\">\n",
       "      <th></th>\n",
       "      <th>hypothesis</th>\n",
       "      <th>reach</th>\n",
       "      <th>impact</th>\n",
       "      <th>confidence</th>\n",
       "      <th>efforts</th>\n",
       "      <th>ICE</th>\n",
       "    </tr>\n",
       "  </thead>\n",
       "  <tbody>\n",
       "    <tr>\n",
       "      <th>8</th>\n",
       "      <td>Запустить акцию, дающую скидку на товар в день рождения</td>\n",
       "      <td>1</td>\n",
       "      <td>9</td>\n",
       "      <td>9</td>\n",
       "      <td>5</td>\n",
       "      <td>16.200000</td>\n",
       "    </tr>\n",
       "    <tr>\n",
       "      <th>0</th>\n",
       "      <td>Добавить два новых канала привлечения трафика, что позволит привлекать на 30% больше пользователей</td>\n",
       "      <td>3</td>\n",
       "      <td>10</td>\n",
       "      <td>8</td>\n",
       "      <td>6</td>\n",
       "      <td>13.333333</td>\n",
       "    </tr>\n",
       "    <tr>\n",
       "      <th>7</th>\n",
       "      <td>Добавить форму подписки на все основные страницы, чтобы собрать базу клиентов для email-рассылок</td>\n",
       "      <td>10</td>\n",
       "      <td>7</td>\n",
       "      <td>8</td>\n",
       "      <td>5</td>\n",
       "      <td>11.200000</td>\n",
       "    </tr>\n",
       "    <tr>\n",
       "      <th>6</th>\n",
       "      <td>Показать на главной странице баннеры с актуальными акциями и распродажами, чтобы увеличить конверсию</td>\n",
       "      <td>5</td>\n",
       "      <td>3</td>\n",
       "      <td>8</td>\n",
       "      <td>3</td>\n",
       "      <td>8.000000</td>\n",
       "    </tr>\n",
       "    <tr>\n",
       "      <th>2</th>\n",
       "      <td>Добавить блоки рекомендаций товаров на сайт интернет магазина, чтобы повысить конверсию и средний чек заказа</td>\n",
       "      <td>8</td>\n",
       "      <td>3</td>\n",
       "      <td>7</td>\n",
       "      <td>3</td>\n",
       "      <td>7.000000</td>\n",
       "    </tr>\n",
       "    <tr>\n",
       "      <th>1</th>\n",
       "      <td>Запустить собственную службу доставки, что сократит срок доставки заказов</td>\n",
       "      <td>2</td>\n",
       "      <td>5</td>\n",
       "      <td>4</td>\n",
       "      <td>10</td>\n",
       "      <td>2.000000</td>\n",
       "    </tr>\n",
       "    <tr>\n",
       "      <th>5</th>\n",
       "      <td>Добавить страницу отзывов клиентов о магазине, что позволит увеличить количество заказов</td>\n",
       "      <td>3</td>\n",
       "      <td>2</td>\n",
       "      <td>2</td>\n",
       "      <td>3</td>\n",
       "      <td>1.333333</td>\n",
       "    </tr>\n",
       "    <tr>\n",
       "      <th>3</th>\n",
       "      <td>Изменить структура категорий, что увеличит конверсию, т.к. пользователи быстрее найдут нужный товар</td>\n",
       "      <td>8</td>\n",
       "      <td>3</td>\n",
       "      <td>3</td>\n",
       "      <td>8</td>\n",
       "      <td>1.125000</td>\n",
       "    </tr>\n",
       "    <tr>\n",
       "      <th>4</th>\n",
       "      <td>Изменить цвет фона главной страницы, чтобы увеличить вовлеченность пользователей</td>\n",
       "      <td>3</td>\n",
       "      <td>1</td>\n",
       "      <td>1</td>\n",
       "      <td>1</td>\n",
       "      <td>1.000000</td>\n",
       "    </tr>\n",
       "  </tbody>\n",
       "</table>\n",
       "</div>"
      ],
      "text/plain": [
       "                                                                                                     hypothesis  \\\n",
       "8                                                       Запустить акцию, дающую скидку на товар в день рождения   \n",
       "0            Добавить два новых канала привлечения трафика, что позволит привлекать на 30% больше пользователей   \n",
       "7              Добавить форму подписки на все основные страницы, чтобы собрать базу клиентов для email-рассылок   \n",
       "6          Показать на главной странице баннеры с актуальными акциями и распродажами, чтобы увеличить конверсию   \n",
       "2  Добавить блоки рекомендаций товаров на сайт интернет магазина, чтобы повысить конверсию и средний чек заказа   \n",
       "1                                     Запустить собственную службу доставки, что сократит срок доставки заказов   \n",
       "5                      Добавить страницу отзывов клиентов о магазине, что позволит увеличить количество заказов   \n",
       "3           Изменить структура категорий, что увеличит конверсию, т.к. пользователи быстрее найдут нужный товар   \n",
       "4                              Изменить цвет фона главной страницы, чтобы увеличить вовлеченность пользователей   \n",
       "\n",
       "   reach  impact  confidence  efforts        ICE  \n",
       "8      1       9           9        5  16.200000  \n",
       "0      3      10           8        6  13.333333  \n",
       "7     10       7           8        5  11.200000  \n",
       "6      5       3           8        3   8.000000  \n",
       "2      8       3           7        3   7.000000  \n",
       "1      2       5           4       10   2.000000  \n",
       "5      3       2           2        3   1.333333  \n",
       "3      8       3           3        8   1.125000  \n",
       "4      3       1           1        1   1.000000  "
      ]
     },
     "metadata": {},
     "output_type": "display_data"
    }
   ],
   "source": [
    "hypothesis['ICE'] = hypothesis['impact']*hypothesis['confidence']/hypothesis['efforts']\n",
    "\n",
    "display(hypothesis.sort_values(by='ICE', ascending=False))\n",
    "\n"
   ]
  },
  {
   "cell_type": "markdown",
   "metadata": {},
   "source": [
    "Наиболее перспективные гипотезы при Применении фреймворка ICE 8,0,7"
   ]
  },
  {
   "cell_type": "markdown",
   "metadata": {},
   "source": [
    "**Применение фреймворка ``RICE``**"
   ]
  },
  {
   "cell_type": "code",
   "execution_count": 6,
   "metadata": {},
   "outputs": [
    {
     "data": {
      "text/html": [
       "<div>\n",
       "<style scoped>\n",
       "    .dataframe tbody tr th:only-of-type {\n",
       "        vertical-align: middle;\n",
       "    }\n",
       "\n",
       "    .dataframe tbody tr th {\n",
       "        vertical-align: top;\n",
       "    }\n",
       "\n",
       "    .dataframe thead th {\n",
       "        text-align: right;\n",
       "    }\n",
       "</style>\n",
       "<table border=\"1\" class=\"dataframe\">\n",
       "  <thead>\n",
       "    <tr style=\"text-align: right;\">\n",
       "      <th></th>\n",
       "      <th>hypothesis</th>\n",
       "      <th>reach</th>\n",
       "      <th>impact</th>\n",
       "      <th>confidence</th>\n",
       "      <th>efforts</th>\n",
       "      <th>ICE</th>\n",
       "      <th>RICE</th>\n",
       "    </tr>\n",
       "  </thead>\n",
       "  <tbody>\n",
       "    <tr>\n",
       "      <th>7</th>\n",
       "      <td>Добавить форму подписки на все основные страницы, чтобы собрать базу клиентов для email-рассылок</td>\n",
       "      <td>10</td>\n",
       "      <td>7</td>\n",
       "      <td>8</td>\n",
       "      <td>5</td>\n",
       "      <td>11.200000</td>\n",
       "      <td>112.0</td>\n",
       "    </tr>\n",
       "    <tr>\n",
       "      <th>2</th>\n",
       "      <td>Добавить блоки рекомендаций товаров на сайт интернет магазина, чтобы повысить конверсию и средний чек заказа</td>\n",
       "      <td>8</td>\n",
       "      <td>3</td>\n",
       "      <td>7</td>\n",
       "      <td>3</td>\n",
       "      <td>7.000000</td>\n",
       "      <td>56.0</td>\n",
       "    </tr>\n",
       "    <tr>\n",
       "      <th>0</th>\n",
       "      <td>Добавить два новых канала привлечения трафика, что позволит привлекать на 30% больше пользователей</td>\n",
       "      <td>3</td>\n",
       "      <td>10</td>\n",
       "      <td>8</td>\n",
       "      <td>6</td>\n",
       "      <td>13.333333</td>\n",
       "      <td>40.0</td>\n",
       "    </tr>\n",
       "    <tr>\n",
       "      <th>6</th>\n",
       "      <td>Показать на главной странице баннеры с актуальными акциями и распродажами, чтобы увеличить конверсию</td>\n",
       "      <td>5</td>\n",
       "      <td>3</td>\n",
       "      <td>8</td>\n",
       "      <td>3</td>\n",
       "      <td>8.000000</td>\n",
       "      <td>40.0</td>\n",
       "    </tr>\n",
       "    <tr>\n",
       "      <th>8</th>\n",
       "      <td>Запустить акцию, дающую скидку на товар в день рождения</td>\n",
       "      <td>1</td>\n",
       "      <td>9</td>\n",
       "      <td>9</td>\n",
       "      <td>5</td>\n",
       "      <td>16.200000</td>\n",
       "      <td>16.2</td>\n",
       "    </tr>\n",
       "    <tr>\n",
       "      <th>3</th>\n",
       "      <td>Изменить структура категорий, что увеличит конверсию, т.к. пользователи быстрее найдут нужный товар</td>\n",
       "      <td>8</td>\n",
       "      <td>3</td>\n",
       "      <td>3</td>\n",
       "      <td>8</td>\n",
       "      <td>1.125000</td>\n",
       "      <td>9.0</td>\n",
       "    </tr>\n",
       "    <tr>\n",
       "      <th>1</th>\n",
       "      <td>Запустить собственную службу доставки, что сократит срок доставки заказов</td>\n",
       "      <td>2</td>\n",
       "      <td>5</td>\n",
       "      <td>4</td>\n",
       "      <td>10</td>\n",
       "      <td>2.000000</td>\n",
       "      <td>4.0</td>\n",
       "    </tr>\n",
       "    <tr>\n",
       "      <th>5</th>\n",
       "      <td>Добавить страницу отзывов клиентов о магазине, что позволит увеличить количество заказов</td>\n",
       "      <td>3</td>\n",
       "      <td>2</td>\n",
       "      <td>2</td>\n",
       "      <td>3</td>\n",
       "      <td>1.333333</td>\n",
       "      <td>4.0</td>\n",
       "    </tr>\n",
       "    <tr>\n",
       "      <th>4</th>\n",
       "      <td>Изменить цвет фона главной страницы, чтобы увеличить вовлеченность пользователей</td>\n",
       "      <td>3</td>\n",
       "      <td>1</td>\n",
       "      <td>1</td>\n",
       "      <td>1</td>\n",
       "      <td>1.000000</td>\n",
       "      <td>3.0</td>\n",
       "    </tr>\n",
       "  </tbody>\n",
       "</table>\n",
       "</div>"
      ],
      "text/plain": [
       "                                                                                                     hypothesis  \\\n",
       "7              Добавить форму подписки на все основные страницы, чтобы собрать базу клиентов для email-рассылок   \n",
       "2  Добавить блоки рекомендаций товаров на сайт интернет магазина, чтобы повысить конверсию и средний чек заказа   \n",
       "0            Добавить два новых канала привлечения трафика, что позволит привлекать на 30% больше пользователей   \n",
       "6          Показать на главной странице баннеры с актуальными акциями и распродажами, чтобы увеличить конверсию   \n",
       "8                                                       Запустить акцию, дающую скидку на товар в день рождения   \n",
       "3           Изменить структура категорий, что увеличит конверсию, т.к. пользователи быстрее найдут нужный товар   \n",
       "1                                     Запустить собственную службу доставки, что сократит срок доставки заказов   \n",
       "5                      Добавить страницу отзывов клиентов о магазине, что позволит увеличить количество заказов   \n",
       "4                              Изменить цвет фона главной страницы, чтобы увеличить вовлеченность пользователей   \n",
       "\n",
       "   reach  impact  confidence  efforts        ICE   RICE  \n",
       "7     10       7           8        5  11.200000  112.0  \n",
       "2      8       3           7        3   7.000000   56.0  \n",
       "0      3      10           8        6  13.333333   40.0  \n",
       "6      5       3           8        3   8.000000   40.0  \n",
       "8      1       9           9        5  16.200000   16.2  \n",
       "3      8       3           3        8   1.125000    9.0  \n",
       "1      2       5           4       10   2.000000    4.0  \n",
       "5      3       2           2        3   1.333333    4.0  \n",
       "4      3       1           1        1   1.000000    3.0  "
      ]
     },
     "metadata": {},
     "output_type": "display_data"
    }
   ],
   "source": [
    "hypothesis['RICE']=(hypothesis['reach']*hypothesis['impact']*hypothesis['confidence'])/hypothesis['efforts']\n",
    "display(hypothesis.sort_values(by='RICE',ascending=False))"
   ]
  },
  {
   "cell_type": "code",
   "execution_count": 7,
   "metadata": {},
   "outputs": [
    {
     "data": {
      "text/html": [
       "<style  type=\"text/css\" >\n",
       "#T_a1091_row0_col1,#T_a1091_row0_col2{\n",
       "            background-color:  #ffffd9;\n",
       "            color:  #000000;\n",
       "        }#T_a1091_row1_col1,#T_a1091_row3_col2{\n",
       "            background-color:  #225da8;\n",
       "            color:  #f1f1f1;\n",
       "        }#T_a1091_row1_col2,#T_a1091_row2_col2{\n",
       "            background-color:  #7ecdbb;\n",
       "            color:  #000000;\n",
       "        }#T_a1091_row2_col1{\n",
       "            background-color:  #40b5c4;\n",
       "            color:  #000000;\n",
       "        }#T_a1091_row3_col1{\n",
       "            background-color:  #c6e9b4;\n",
       "            color:  #000000;\n",
       "        }#T_a1091_row4_col1,#T_a1091_row4_col2,#T_a1091_row5_col1,#T_a1091_row5_col2,#T_a1091_row6_col1,#T_a1091_row6_col2,#T_a1091_row7_col1,#T_a1091_row7_col2,#T_a1091_row8_col1,#T_a1091_row8_col2{\n",
       "            background-color:  #081d58;\n",
       "            color:  #f1f1f1;\n",
       "        }</style><table id=\"T_a1091_\" ><thead>    <tr>        <th class=\"blank level0\" ></th>        <th class=\"col_heading level0 col0\" >hypothesis</th>        <th class=\"col_heading level0 col1\" >ranked_ICE</th>        <th class=\"col_heading level0 col2\" >ranked_RICE</th>    </tr></thead><tbody>\n",
       "                <tr>\n",
       "                        <th id=\"T_a1091_level0_row0\" class=\"row_heading level0 row0\" >4</th>\n",
       "                        <td id=\"T_a1091_row0_col0\" class=\"data row0 col0\" >Изменить цвет фона главной страницы, чтобы увеличить вовлеченность пользователей</td>\n",
       "                        <td id=\"T_a1091_row0_col1\" class=\"data row0 col1\" >1.000000</td>\n",
       "                        <td id=\"T_a1091_row0_col2\" class=\"data row0 col2\" >1.000000</td>\n",
       "            </tr>\n",
       "            <tr>\n",
       "                        <th id=\"T_a1091_level0_row1\" class=\"row_heading level0 row1\" >1</th>\n",
       "                        <td id=\"T_a1091_row1_col0\" class=\"data row1 col0\" >Запустить собственную службу доставки, что сократит срок доставки заказов</td>\n",
       "                        <td id=\"T_a1091_row1_col1\" class=\"data row1 col1\" >4.000000</td>\n",
       "                        <td id=\"T_a1091_row1_col2\" class=\"data row1 col2\" >2.500000</td>\n",
       "            </tr>\n",
       "            <tr>\n",
       "                        <th id=\"T_a1091_level0_row2\" class=\"row_heading level0 row2\" >5</th>\n",
       "                        <td id=\"T_a1091_row2_col0\" class=\"data row2 col0\" >Добавить страницу отзывов клиентов о магазине, что позволит увеличить количество заказов</td>\n",
       "                        <td id=\"T_a1091_row2_col1\" class=\"data row2 col1\" >3.000000</td>\n",
       "                        <td id=\"T_a1091_row2_col2\" class=\"data row2 col2\" >2.500000</td>\n",
       "            </tr>\n",
       "            <tr>\n",
       "                        <th id=\"T_a1091_level0_row3\" class=\"row_heading level0 row3\" >3</th>\n",
       "                        <td id=\"T_a1091_row3_col0\" class=\"data row3 col0\" >Изменить структура категорий, что увеличит конверсию, т.к. пользователи быстрее найдут нужный товар</td>\n",
       "                        <td id=\"T_a1091_row3_col1\" class=\"data row3 col1\" >2.000000</td>\n",
       "                        <td id=\"T_a1091_row3_col2\" class=\"data row3 col2\" >4.000000</td>\n",
       "            </tr>\n",
       "            <tr>\n",
       "                        <th id=\"T_a1091_level0_row4\" class=\"row_heading level0 row4\" >8</th>\n",
       "                        <td id=\"T_a1091_row4_col0\" class=\"data row4 col0\" >Запустить акцию, дающую скидку на товар в день рождения</td>\n",
       "                        <td id=\"T_a1091_row4_col1\" class=\"data row4 col1\" >9.000000</td>\n",
       "                        <td id=\"T_a1091_row4_col2\" class=\"data row4 col2\" >5.000000</td>\n",
       "            </tr>\n",
       "            <tr>\n",
       "                        <th id=\"T_a1091_level0_row5\" class=\"row_heading level0 row5\" >0</th>\n",
       "                        <td id=\"T_a1091_row5_col0\" class=\"data row5 col0\" >Добавить два новых канала привлечения трафика, что позволит привлекать на 30% больше пользователей</td>\n",
       "                        <td id=\"T_a1091_row5_col1\" class=\"data row5 col1\" >8.000000</td>\n",
       "                        <td id=\"T_a1091_row5_col2\" class=\"data row5 col2\" >6.500000</td>\n",
       "            </tr>\n",
       "            <tr>\n",
       "                        <th id=\"T_a1091_level0_row6\" class=\"row_heading level0 row6\" >6</th>\n",
       "                        <td id=\"T_a1091_row6_col0\" class=\"data row6 col0\" >Показать на главной странице баннеры с актуальными акциями и распродажами, чтобы увеличить конверсию</td>\n",
       "                        <td id=\"T_a1091_row6_col1\" class=\"data row6 col1\" >6.000000</td>\n",
       "                        <td id=\"T_a1091_row6_col2\" class=\"data row6 col2\" >6.500000</td>\n",
       "            </tr>\n",
       "            <tr>\n",
       "                        <th id=\"T_a1091_level0_row7\" class=\"row_heading level0 row7\" >2</th>\n",
       "                        <td id=\"T_a1091_row7_col0\" class=\"data row7 col0\" >Добавить блоки рекомендаций товаров на сайт интернет магазина, чтобы повысить конверсию и средний чек заказа</td>\n",
       "                        <td id=\"T_a1091_row7_col1\" class=\"data row7 col1\" >5.000000</td>\n",
       "                        <td id=\"T_a1091_row7_col2\" class=\"data row7 col2\" >8.000000</td>\n",
       "            </tr>\n",
       "            <tr>\n",
       "                        <th id=\"T_a1091_level0_row8\" class=\"row_heading level0 row8\" >7</th>\n",
       "                        <td id=\"T_a1091_row8_col0\" class=\"data row8 col0\" >Добавить форму подписки на все основные страницы, чтобы собрать базу клиентов для email-рассылок</td>\n",
       "                        <td id=\"T_a1091_row8_col1\" class=\"data row8 col1\" >7.000000</td>\n",
       "                        <td id=\"T_a1091_row8_col2\" class=\"data row8 col2\" >9.000000</td>\n",
       "            </tr>\n",
       "    </tbody></table>"
      ],
      "text/plain": [
       "<pandas.io.formats.style.Styler at 0x7feaf44be190>"
      ]
     },
     "metadata": {},
     "output_type": "display_data"
    }
   ],
   "source": [
    "hypothesis['ranked_ICE']=hypothesis['ICE'].rank()\n",
    "hypothesis['ranked_RICE']=hypothesis['RICE'].rank()\n",
    "\n",
    "display(hypothesis[['hypothesis','ranked_ICE','ranked_RICE']].sort_values(by='ranked_RICE',ascending=True).style.background_gradient(axis=None, vmin=1, vmax=5, cmap=\"YlGnBu\"))"
   ]
  },
  {
   "cell_type": "markdown",
   "metadata": {},
   "source": [
    "Наиболее перспективные гипотезы при применении фреймворка RICE 7,2,0. В топ-3 гипотезы 7 и 0, но гипотеза 7 уже на 1м месте. Такое изменение по сравнению с применением фреймворка ``ICE`` происходит потому что компонент Reach(скольких пользователей затронет изменение), который используется при применении фреймворка ``RICE`` для гипотезы 7 имеет значение 10, а у гипотезу 0 этот компонтент только 3."
   ]
  },
  {
   "cell_type": "markdown",
   "metadata": {},
   "source": [
    "Загружен и изучен датафрейм ``/datasets/hypothesis.csv`` В елях приоретизации гипотез использованы фреймворка ``ICE`` Наиболее перспективные гипотезы при Применении фреймворка ICE 8,0,7. При использовании фреймворка ``RICE`` наиболее перспективные гипотезы при применении фреймворка RICE 7,2,0. В топ-3 гипотезы 7 и 0, но гипотеза 7 уже на 1м месте. Такое изменение по сравнению с применением фреймворка ICE происходит потому что компонент Reach(скольких пользователей затронет изменение), который используется при применении фреймворка RICE для гипотезы 7 имеет значение 10, а у гипотезу 0 этот компонтент только 3."
   ]
  },
  {
   "cell_type": "markdown",
   "metadata": {},
   "source": [
    "## Анализ A/B-теста"
   ]
  },
  {
   "cell_type": "markdown",
   "metadata": {},
   "source": [
    "### Загрузка данных"
   ]
  },
  {
   "cell_type": "code",
   "execution_count": 8,
   "metadata": {},
   "outputs": [],
   "source": [
    "orders = pd.read_csv('/datasets/orders.csv')\n",
    "visitors = pd.read_csv('/datasets/visitors.csv')"
   ]
  },
  {
   "cell_type": "markdown",
   "metadata": {},
   "source": [
    "### Предобработка данных"
   ]
  },
  {
   "cell_type": "code",
   "execution_count": 9,
   "metadata": {},
   "outputs": [
    {
     "data": {
      "text/html": [
       "<div>\n",
       "<style scoped>\n",
       "    .dataframe tbody tr th:only-of-type {\n",
       "        vertical-align: middle;\n",
       "    }\n",
       "\n",
       "    .dataframe tbody tr th {\n",
       "        vertical-align: top;\n",
       "    }\n",
       "\n",
       "    .dataframe thead th {\n",
       "        text-align: right;\n",
       "    }\n",
       "</style>\n",
       "<table border=\"1\" class=\"dataframe\">\n",
       "  <thead>\n",
       "    <tr style=\"text-align: right;\">\n",
       "      <th></th>\n",
       "      <th>transactionId</th>\n",
       "      <th>visitorId</th>\n",
       "      <th>date</th>\n",
       "      <th>revenue</th>\n",
       "      <th>group</th>\n",
       "    </tr>\n",
       "  </thead>\n",
       "  <tbody>\n",
       "    <tr>\n",
       "      <th>0</th>\n",
       "      <td>3667963787</td>\n",
       "      <td>3312258926</td>\n",
       "      <td>2019-08-15</td>\n",
       "      <td>1650</td>\n",
       "      <td>B</td>\n",
       "    </tr>\n",
       "    <tr>\n",
       "      <th>1</th>\n",
       "      <td>2804400009</td>\n",
       "      <td>3642806036</td>\n",
       "      <td>2019-08-15</td>\n",
       "      <td>730</td>\n",
       "      <td>B</td>\n",
       "    </tr>\n",
       "    <tr>\n",
       "      <th>2</th>\n",
       "      <td>2961555356</td>\n",
       "      <td>4069496402</td>\n",
       "      <td>2019-08-15</td>\n",
       "      <td>400</td>\n",
       "      <td>A</td>\n",
       "    </tr>\n",
       "    <tr>\n",
       "      <th>3</th>\n",
       "      <td>3797467345</td>\n",
       "      <td>1196621759</td>\n",
       "      <td>2019-08-15</td>\n",
       "      <td>9759</td>\n",
       "      <td>B</td>\n",
       "    </tr>\n",
       "    <tr>\n",
       "      <th>4</th>\n",
       "      <td>2282983706</td>\n",
       "      <td>2322279887</td>\n",
       "      <td>2019-08-15</td>\n",
       "      <td>2308</td>\n",
       "      <td>B</td>\n",
       "    </tr>\n",
       "  </tbody>\n",
       "</table>\n",
       "</div>"
      ],
      "text/plain": [
       "   transactionId   visitorId        date  revenue group\n",
       "0     3667963787  3312258926  2019-08-15     1650     B\n",
       "1     2804400009  3642806036  2019-08-15      730     B\n",
       "2     2961555356  4069496402  2019-08-15      400     A\n",
       "3     3797467345  1196621759  2019-08-15     9759     B\n",
       "4     2282983706  2322279887  2019-08-15     2308     B"
      ]
     },
     "metadata": {},
     "output_type": "display_data"
    },
    {
     "data": {
      "text/plain": [
       "array(['B', 'A'], dtype=object)"
      ]
     },
     "metadata": {},
     "output_type": "display_data"
    },
    {
     "name": "stdout",
     "output_type": "stream",
     "text": [
      "<class 'pandas.core.frame.DataFrame'>\n",
      "RangeIndex: 1197 entries, 0 to 1196\n",
      "Data columns (total 5 columns):\n",
      " #   Column         Non-Null Count  Dtype \n",
      "---  ------         --------------  ----- \n",
      " 0   transactionId  1197 non-null   int64 \n",
      " 1   visitorId      1197 non-null   int64 \n",
      " 2   date           1197 non-null   object\n",
      " 3   revenue        1197 non-null   int64 \n",
      " 4   group          1197 non-null   object\n",
      "dtypes: int64(3), object(2)\n",
      "memory usage: 46.9+ KB\n"
     ]
    }
   ],
   "source": [
    "display(orders.head())\n",
    "display(orders['group'].unique())\n",
    "orders.info()"
   ]
  },
  {
   "cell_type": "code",
   "execution_count": 10,
   "metadata": {},
   "outputs": [
    {
     "name": "stdout",
     "output_type": "stream",
     "text": [
      "<class 'pandas.core.frame.DataFrame'>\n",
      "RangeIndex: 1197 entries, 0 to 1196\n",
      "Data columns (total 5 columns):\n",
      " #   Column         Non-Null Count  Dtype         \n",
      "---  ------         --------------  -----         \n",
      " 0   transactionId  1197 non-null   int64         \n",
      " 1   visitorId      1197 non-null   int64         \n",
      " 2   date           1197 non-null   datetime64[ns]\n",
      " 3   revenue        1197 non-null   int64         \n",
      " 4   group          1197 non-null   object        \n",
      "dtypes: datetime64[ns](1), int64(3), object(1)\n",
      "memory usage: 46.9+ KB\n"
     ]
    }
   ],
   "source": [
    "orders['date'] = orders['date'].map(\n",
    "    lambda x: dt.datetime.strptime(x, '%Y-%m-%d')\n",
    ")\n",
    "orders.info()"
   ]
  },
  {
   "cell_type": "code",
   "execution_count": 11,
   "metadata": {},
   "outputs": [
    {
     "data": {
      "text/html": [
       "<div>\n",
       "<style scoped>\n",
       "    .dataframe tbody tr th:only-of-type {\n",
       "        vertical-align: middle;\n",
       "    }\n",
       "\n",
       "    .dataframe tbody tr th {\n",
       "        vertical-align: top;\n",
       "    }\n",
       "\n",
       "    .dataframe thead th {\n",
       "        text-align: right;\n",
       "    }\n",
       "</style>\n",
       "<table border=\"1\" class=\"dataframe\">\n",
       "  <thead>\n",
       "    <tr style=\"text-align: right;\">\n",
       "      <th></th>\n",
       "      <th>date</th>\n",
       "      <th>group</th>\n",
       "      <th>visitors</th>\n",
       "    </tr>\n",
       "  </thead>\n",
       "  <tbody>\n",
       "    <tr>\n",
       "      <th>0</th>\n",
       "      <td>2019-08-01</td>\n",
       "      <td>A</td>\n",
       "      <td>719</td>\n",
       "    </tr>\n",
       "    <tr>\n",
       "      <th>1</th>\n",
       "      <td>2019-08-02</td>\n",
       "      <td>A</td>\n",
       "      <td>619</td>\n",
       "    </tr>\n",
       "    <tr>\n",
       "      <th>2</th>\n",
       "      <td>2019-08-03</td>\n",
       "      <td>A</td>\n",
       "      <td>507</td>\n",
       "    </tr>\n",
       "    <tr>\n",
       "      <th>3</th>\n",
       "      <td>2019-08-04</td>\n",
       "      <td>A</td>\n",
       "      <td>717</td>\n",
       "    </tr>\n",
       "    <tr>\n",
       "      <th>4</th>\n",
       "      <td>2019-08-05</td>\n",
       "      <td>A</td>\n",
       "      <td>756</td>\n",
       "    </tr>\n",
       "  </tbody>\n",
       "</table>\n",
       "</div>"
      ],
      "text/plain": [
       "         date group  visitors\n",
       "0  2019-08-01     A       719\n",
       "1  2019-08-02     A       619\n",
       "2  2019-08-03     A       507\n",
       "3  2019-08-04     A       717\n",
       "4  2019-08-05     A       756"
      ]
     },
     "metadata": {},
     "output_type": "display_data"
    },
    {
     "data": {
      "text/plain": [
       "array(['A', 'B'], dtype=object)"
      ]
     },
     "metadata": {},
     "output_type": "display_data"
    },
    {
     "name": "stdout",
     "output_type": "stream",
     "text": [
      "<class 'pandas.core.frame.DataFrame'>\n",
      "RangeIndex: 62 entries, 0 to 61\n",
      "Data columns (total 3 columns):\n",
      " #   Column    Non-Null Count  Dtype \n",
      "---  ------    --------------  ----- \n",
      " 0   date      62 non-null     object\n",
      " 1   group     62 non-null     object\n",
      " 2   visitors  62 non-null     int64 \n",
      "dtypes: int64(1), object(2)\n",
      "memory usage: 1.6+ KB\n"
     ]
    }
   ],
   "source": [
    "display(visitors.head())\n",
    "display(visitors['group'].unique())\n",
    "visitors.info()"
   ]
  },
  {
   "cell_type": "markdown",
   "metadata": {},
   "source": [
    "приведем данные столбца visitors['date'] в формат datetime"
   ]
  },
  {
   "cell_type": "code",
   "execution_count": 12,
   "metadata": {},
   "outputs": [],
   "source": [
    "visitors['date'] = visitors['date'].map(\n",
    "    lambda x: dt.datetime.strptime(x, '%Y-%m-%d')\n",
    ")"
   ]
  },
  {
   "cell_type": "code",
   "execution_count": 13,
   "metadata": {},
   "outputs": [
    {
     "name": "stdout",
     "output_type": "stream",
     "text": [
      "<class 'pandas.core.frame.DataFrame'>\n",
      "RangeIndex: 62 entries, 0 to 61\n",
      "Data columns (total 3 columns):\n",
      " #   Column    Non-Null Count  Dtype         \n",
      "---  ------    --------------  -----         \n",
      " 0   date      62 non-null     datetime64[ns]\n",
      " 1   group     62 non-null     object        \n",
      " 2   visitors  62 non-null     int64         \n",
      "dtypes: datetime64[ns](1), int64(1), object(1)\n",
      "memory usage: 1.6+ KB\n"
     ]
    }
   ],
   "source": [
    "visitors.info()"
   ]
  },
  {
   "cell_type": "code",
   "execution_count": 14,
   "metadata": {},
   "outputs": [
    {
     "data": {
      "text/plain": [
       "transactionId    0\n",
       "visitorId        0\n",
       "date             0\n",
       "revenue          0\n",
       "group            0\n",
       "dtype: int64"
      ]
     },
     "metadata": {},
     "output_type": "display_data"
    },
    {
     "data": {
      "text/plain": [
       "0"
      ]
     },
     "metadata": {},
     "output_type": "display_data"
    }
   ],
   "source": [
    "display(orders.isna().sum())\n",
    "display(orders.duplicated().sum())\n"
   ]
  },
  {
   "cell_type": "code",
   "execution_count": 15,
   "metadata": {},
   "outputs": [
    {
     "data": {
      "text/plain": [
       "date        0\n",
       "group       0\n",
       "visitors    0\n",
       "dtype: int64"
      ]
     },
     "metadata": {},
     "output_type": "display_data"
    },
    {
     "data": {
      "text/plain": [
       "0"
      ]
     },
     "metadata": {},
     "output_type": "display_data"
    }
   ],
   "source": [
    "display(visitors.isna().sum())\n",
    "display(visitors.duplicated().sum())"
   ]
  },
  {
   "cell_type": "markdown",
   "metadata": {},
   "source": [
    "дубликаты и пропуски не выявлены"
   ]
  },
  {
   "cell_type": "markdown",
   "metadata": {},
   "source": [
    "Проверим наличие одинаковых пользователей в группах А и В"
   ]
  },
  {
   "cell_type": "code",
   "execution_count": 16,
   "metadata": {},
   "outputs": [
    {
     "data": {
      "text/plain": [
       "group    58\n",
       "dtype: int64"
      ]
     },
     "execution_count": 16,
     "metadata": {},
     "output_type": "execute_result"
    }
   ],
   "source": [
    "orders.groupby('visitorId').agg({'group' : 'nunique'}).query('group>1').count()"
   ]
  },
  {
   "cell_type": "markdown",
   "metadata": {},
   "source": [
    "в результате расчета, оказалось что есть есть совпадения пользователей в обеих группах. Выведем их в новый датафрейм и далее очистим исходный датасет от \"задвоения\""
   ]
  },
  {
   "cell_type": "code",
   "execution_count": 17,
   "metadata": {},
   "outputs": [],
   "source": [
    "double_users = orders.groupby('visitorId').agg({'group' : 'nunique'}).reset_index().query('group>1')['visitorId'].unique()"
   ]
  },
  {
   "cell_type": "code",
   "execution_count": 18,
   "metadata": {},
   "outputs": [],
   "source": [
    "orders = orders.query('visitorId not in @double_users')"
   ]
  },
  {
   "cell_type": "code",
   "execution_count": 19,
   "metadata": {
    "scrolled": true
   },
   "outputs": [
    {
     "name": "stdout",
     "output_type": "stream",
     "text": [
      "<class 'pandas.core.frame.DataFrame'>\n",
      "Int64Index: 1016 entries, 0 to 1196\n",
      "Data columns (total 5 columns):\n",
      " #   Column         Non-Null Count  Dtype         \n",
      "---  ------         --------------  -----         \n",
      " 0   transactionId  1016 non-null   int64         \n",
      " 1   visitorId      1016 non-null   int64         \n",
      " 2   date           1016 non-null   datetime64[ns]\n",
      " 3   revenue        1016 non-null   int64         \n",
      " 4   group          1016 non-null   object        \n",
      "dtypes: datetime64[ns](1), int64(3), object(1)\n",
      "memory usage: 47.6+ KB\n"
     ]
    }
   ],
   "source": [
    "orders.info()"
   ]
  },
  {
   "cell_type": "markdown",
   "metadata": {},
   "source": [
    "В ходе предобработки данных изучены данные датафреймов ``'/datasets/orders.csv'`` и ``'/datasets/visitors.csv'``. Пропуски и дубликаты не выявлены. Формат данных столбца visitors['date'] в формат datetime. Датасет ``orders`` очищен от задвоние пользователей в группах А и В"
   ]
  },
  {
   "cell_type": "markdown",
   "metadata": {},
   "source": [
    "### График кумулятивной выручки по группам"
   ]
  },
  {
   "cell_type": "markdown",
   "metadata": {},
   "source": [
    "Подготовим данные для дальнейшего анализа"
   ]
  },
  {
   "cell_type": "code",
   "execution_count": 20,
   "metadata": {},
   "outputs": [
    {
     "name": "stdout",
     "output_type": "stream",
     "text": [
      "        date group  orders  buyers  revenue  visitors\n",
      "0 2019-08-01     A      23      19   142779       719\n",
      "1 2019-08-01     B      17      17    59758       713\n",
      "2 2019-08-02     A      42      36   234381      1338\n",
      "3 2019-08-02     B      40      39   221801      1294\n",
      "4 2019-08-03     A      66      60   346854      1845\n",
      "5 2019-08-03     B      54      53   288850      1803\n",
      "6 2019-08-04     A      77      71   388030      2562\n",
      "7 2019-08-04     B      68      66   385740      2573\n",
      "8 2019-08-05     A      99      92   474413      3318\n",
      "9 2019-08-05     B      89      87   475648      3280\n"
     ]
    }
   ],
   "source": [
    "# создаем массив уникальных пар значений дат и групп теста\n",
    "datesGroups = orders[['date','group']].drop_duplicates()\n",
    "# получаем агрегированные кумулятивные по дням данные о заказах \n",
    "ordersAggregated = datesGroups.apply(lambda x: orders[np.logical_and(orders['date'] <= x['date'], orders['group'] == x['group'])].agg({'date' : 'max', 'group' : 'max', 'transactionId' : 'nunique', 'visitorId' : 'nunique', 'revenue' : 'sum'}), axis=1).sort_values(by=['date','group'])\n",
    "\n",
    "# получаем агрегированные кумулятивные по дням данные о посетителях интернет-магазина \n",
    "visitorsAggregated = datesGroups.apply(lambda x: visitors[np.logical_and(visitors['date'] <= x['date'], visitors['group'] == x['group'])].agg({'date' : 'max', 'group' : 'max', 'visitors' : 'sum'}), axis=1).sort_values(by=['date','group'])\n",
    "\n",
    "# объединяем кумулятивные данные в одной таблице и присваиваем ее столбцам понятные названия\n",
    "cumulativeData = ordersAggregated.merge(visitorsAggregated, left_on=['date', 'group'], right_on=['date', 'group'])\n",
    "cumulativeData.columns = ['date', 'group', 'orders', 'buyers', 'revenue', 'visitors']\n",
    "\n",
    "print(cumulativeData.head(10)) "
   ]
  },
  {
   "cell_type": "code",
   "execution_count": 21,
   "metadata": {},
   "outputs": [
    {
     "data": {
      "image/png": "[encoded data removed]",
      "text/plain": [
       "<Figure size 1080x360 with 1 Axes>"
      ]
     },
     "metadata": {
      "needs_background": "light"
     },
     "output_type": "display_data"
    }
   ],
   "source": [
    "# датафрейм с кумулятивным количеством заказов и кумулятивной выручкой по дням в группе А\n",
    "cumulativeRevenueA = cumulativeData[cumulativeData['group']=='A'][['date','revenue', 'orders']]\n",
    "\n",
    "# датафрейм с кумулятивным количеством заказов и кумулятивной выручкой по дням в группе B\n",
    "cumulativeRevenueB = cumulativeData[cumulativeData['group']=='B'][['date','revenue', 'orders']]\n",
    "\n",
    "# зададим размер графика\n",
    "plt.figure(figsize=(15, 5))\n",
    "# Строим график выручки группы А\n",
    "plt.plot(cumulativeRevenueA['date'], cumulativeRevenueA['revenue'], label='A')\n",
    "\n",
    "# Строим график выручки группы B\n",
    "plt.plot(cumulativeRevenueB['date'], cumulativeRevenueB['revenue'], label='B')\n",
    "\n",
    "plt.title('график кумулятивной выручки по грппам')\n",
    "plt.xlabel('дата')\n",
    "plt.ylabel('выручка')\n",
    "\n",
    "plt.legend() \n",
    "plt.show()"
   ]
  },
  {
   "cell_type": "markdown",
   "metadata": {},
   "source": [
    "Выручка обеих групп растет, но по графику кумулятивной выручки на 5й день группа B резкой увеличивается. Причиной может быть нехарактерные более дорогие заказы или резкое увеличиение самих заказов в группе B."
   ]
  },
  {
   "cell_type": "markdown",
   "metadata": {},
   "source": [
    "### График кумулятивного среднего чека по группам"
   ]
  },
  {
   "cell_type": "code",
   "execution_count": 22,
   "metadata": {},
   "outputs": [
    {
     "data": {
      "image/png": "[encoded data removed]",
      "text/plain": [
       "<Figure size 1080x360 with 1 Axes>"
      ]
     },
     "metadata": {
      "needs_background": "light"
     },
     "output_type": "display_data"
    }
   ],
   "source": [
    "\n",
    "# зададим размер графика\n",
    "plt.figure(figsize=(15, 5))\n",
    "\n",
    "plt.plot(cumulativeRevenueA['date'], cumulativeRevenueA['revenue']/cumulativeRevenueA['orders'], label='A')\n",
    "plt.plot(cumulativeRevenueB['date'], cumulativeRevenueB['revenue']/cumulativeRevenueB['orders'], label='B')\n",
    "plt.title('график кумулятивного среднего чека по группам')\n",
    "plt.xlabel('дата')\n",
    "plt.ylabel('средний чек')\n",
    "plt.legend() \n",
    "plt.show()"
   ]
  },
  {
   "cell_type": "markdown",
   "metadata": {},
   "source": [
    "Значиения кумулятивного среднего чека по группам сильно колеблются, но на 5й день в группе B наблюдается резкое увеличние этого показателя, с последующим снижением. Что может говорить о появлении в группе B дорогих заказов. Ближе к концу теста средний чек в обеих группах стабилизируется. "
   ]
  },
  {
   "cell_type": "markdown",
   "metadata": {},
   "source": [
    "### График относительного изменения кумулятивного среднего чека группы B к группе A"
   ]
  },
  {
   "cell_type": "code",
   "execution_count": 23,
   "metadata": {},
   "outputs": [
    {
     "data": {
      "image/png": "[encoded data removed]",
      "text/plain": [
       "<Figure size 1080x360 with 1 Axes>"
      ]
     },
     "metadata": {
      "needs_background": "light"
     },
     "output_type": "display_data"
    }
   ],
   "source": [
    "# собираем данные в одном датафрейме\n",
    "mergedCumulativeRevenue = cumulativeRevenueA.merge(cumulativeRevenueB, left_on='date', right_on='date', how='left', suffixes=['A', 'B'])\n",
    "\n",
    "# зададим размер графика\n",
    "plt.figure(figsize=(15, 5)) \n",
    "\n",
    "# cтроим отношение средних чеков\n",
    "plt.plot(mergedCumulativeRevenue['date'], (mergedCumulativeRevenue['revenueB']/mergedCumulativeRevenue['ordersB'])/(mergedCumulativeRevenue['revenueA']/mergedCumulativeRevenue['ordersA'])-1)\n",
    "plt.title('график относительного изменения кумулятивного среднего чека группы B к группе A')\n",
    "plt.xlabel('дата')\n",
    "plt.ylabel('соотнощение кумулятивного среднего чека группы B к группе A')\n",
    "# добавляем ось X\n",
    "plt.axhline(y=0, color='black', linestyle='--') \n",
    "plt.show()"
   ]
  },
  {
   "cell_type": "markdown",
   "metadata": {},
   "source": [
    "На графике относительного изменения кумулятивного среднего чека группы B к группе A имеются резкие колебания, Возможно присутствуют крупные заказы."
   ]
  },
  {
   "cell_type": "markdown",
   "metadata": {},
   "source": [
    "### График кумулятивного среднего количества заказов на посетителя по группам"
   ]
  },
  {
   "cell_type": "code",
   "execution_count": 24,
   "metadata": {},
   "outputs": [
    {
     "data": {
      "image/png": "[encoded data removed]",
      "text/plain": [
       "<Figure size 1080x360 with 1 Axes>"
      ]
     },
     "metadata": {
      "needs_background": "light"
     },
     "output_type": "display_data"
    }
   ],
   "source": [
    "# считаем среднее количество заказов на посетителя\n",
    "cumulativeData['conversion'] = cumulativeData['orders']/cumulativeData['visitors']\n",
    "\n",
    "# отделяем данные по группе A\n",
    "cumulativeDataA = cumulativeData[cumulativeData['group']=='A']\n",
    "\n",
    "# отделяем данные по группе B\n",
    "cumulativeDataB = cumulativeData[cumulativeData['group']=='B']\n",
    "\n",
    "# зададим размер графика\n",
    "plt.figure(figsize=(15, 5)) \n",
    "# строим графики\n",
    "plt.plot(cumulativeDataA['date'], cumulativeDataA['conversion'], label='A')\n",
    "plt.plot(cumulativeDataB['date'], cumulativeDataB['conversion'], label='B')\n",
    "\n",
    "plt.title('график кумулятивного среднего количества заказов на посетителя по группам')\n",
    "plt.xlabel('дата')\n",
    "plt.ylabel('кумулятивное среднего количества заказов')\n",
    "plt.legend()\n",
    "plt.show()"
   ]
  },
  {
   "cell_type": "markdown",
   "metadata": {},
   "source": [
    "на 2й день по среднему количеству заказов группа А резко снижается, тогда как в групе В среднее количество заказов наоборот резко увеличивается. Под конец теста в обеих группа наблюдается снижение, но в группе А это более выражено."
   ]
  },
  {
   "cell_type": "markdown",
   "metadata": {},
   "source": [
    "### График относительного изменения кумулятивного среднего количества заказов на посетителя группы B к группе A."
   ]
  },
  {
   "cell_type": "code",
   "execution_count": 25,
   "metadata": {},
   "outputs": [
    {
     "data": {
      "image/png": "[encoded data removed]",
      "text/plain": [
       "<Figure size 1080x360 with 1 Axes>"
      ]
     },
     "metadata": {
      "needs_background": "light"
     },
     "output_type": "display_data"
    }
   ],
   "source": [
    "mergedCumulativeConversions = cumulativeDataA[['date','conversion']].merge(cumulativeDataB[['date','conversion']], left_on='date', right_on='date', how='left', suffixes=['A', 'B'])\n",
    "\n",
    "plt.figure(figsize=(15, 5)) \n",
    "plt.plot(mergedCumulativeConversions['date'], mergedCumulativeConversions['conversionB']/mergedCumulativeConversions['conversionA']-1, label=\"Относительное изменение кумулятивного среднего количества заказов на посетителя группы B относительно группы A\")\n",
    "plt.title('график относительного изменения кумулятивного среднего количества заказов на посетителя группы B к группе A.')\n",
    "plt.xlabel('дата')\n",
    "plt.ylabel('относительное изменение')\n",
    "plt.legend()\n",
    "\n",
    "plt.axhline(y=0, color='black', linestyle='--')\n",
    "plt.axhline(y=-0.1, color='grey', linestyle='--')\n",
    "plt.show()"
   ]
  },
  {
   "cell_type": "markdown",
   "metadata": {},
   "source": [
    "Уже на 2й группа В имеет большее количество заказов по сравнению с группой А."
   ]
  },
  {
   "cell_type": "markdown",
   "metadata": {},
   "source": [
    "### Точечный график количества заказов по пользователям"
   ]
  },
  {
   "cell_type": "code",
   "execution_count": 26,
   "metadata": {},
   "outputs": [
    {
     "name": "stdout",
     "output_type": "stream",
     "text": [
      "      visitorId  orders\n",
      "908  3967698036       3\n",
      "55    249864742       3\n",
      "478  2108163459       3\n",
      "687  2988190573       3\n",
      "890  3908431265       3\n",
      "138   611059232       3\n",
      "632  2742574263       3\n",
      "157   678354126       2\n",
      "323  1404560065       2\n",
      "452  1985475298       2\n",
      "118   522292794       2\n",
      "628  2733145037       2\n",
      "634  2744017357       2\n",
      "407  1772171838       2\n",
      "548  2397843657       2\n",
      "529  2306096143       2\n",
      "940  4134830387       2\n",
      "94    406208401       2\n",
      "176   759473111       2\n",
      "476  2096506107       2\n"
     ]
    }
   ],
   "source": [
    "ordersByUsers = (\n",
    "    orders.groupby('visitorId', as_index=False)\n",
    "    .agg({'transactionId': 'nunique'})\n",
    ")\n",
    "\n",
    "ordersByUsers.columns = ['visitorId', 'orders']\n",
    "\n",
    "print(ordersByUsers.sort_values(by='orders', ascending=False).head(20)) "
   ]
  },
  {
   "cell_type": "code",
   "execution_count": 27,
   "metadata": {},
   "outputs": [
    {
     "data": {
      "text/plain": [
       "Text(0, 0.5, 'количество заказов')"
      ]
     },
     "execution_count": 27,
     "metadata": {},
     "output_type": "execute_result"
    },
    {
     "data": {
      "image/png": "[encoded data removed]",
      "text/plain": [
       "<Figure size 1080x360 with 1 Axes>"
      ]
     },
     "metadata": {
      "needs_background": "light"
     },
     "output_type": "display_data"
    }
   ],
   "source": [
    "x_values = pd.Series(range(0,len(ordersByUsers)))\n",
    "plt.figure(figsize=(15, 5)) \n",
    "plt.scatter(x_values, ordersByUsers['orders']) \n",
    "plt.title('график количества заказов по пользователям')\n",
    "plt.xlabel('количество пользлвателей')\n",
    "plt.ylabel('количество заказов')"
   ]
  },
  {
   "cell_type": "markdown",
   "metadata": {},
   "source": [
    "Основная масса пользователей сделало по дному заказу, реже 2 заказа. Очень редко пользователи совершают 3 заказа."
   ]
  },
  {
   "cell_type": "markdown",
   "metadata": {},
   "source": [
    "###  Расчет 95-й и 99-й перцентилей количества заказов на пользователя**"
   ]
  },
  {
   "cell_type": "code",
   "execution_count": 28,
   "metadata": {},
   "outputs": [
    {
     "data": {
      "text/plain": [
       "array([1., 2.])"
      ]
     },
     "metadata": {},
     "output_type": "display_data"
    }
   ],
   "source": [
    "display(np.percentile(ordersByUsers['orders'], [95, 99])) "
   ]
  },
  {
   "cell_type": "markdown",
   "metadata": {},
   "source": [
    "5% пользователей совершили 1 и более заказа, и только 1% пользователей совершили более 2 зказов. Примем за аномальное количество заказов 2 и более заказа"
   ]
  },
  {
   "cell_type": "markdown",
   "metadata": {},
   "source": [
    "###  Точечный график стоимостей заказов"
   ]
  },
  {
   "cell_type": "code",
   "execution_count": 29,
   "metadata": {},
   "outputs": [
    {
     "name": "stdout",
     "output_type": "stream",
     "text": [
      "      transactionId   visitorId       date  revenue group\n",
      "425       590470918  1920142716 2019-08-19  1294500     B\n",
      "1196     3936777065  2108080724 2019-08-15   202740     B\n",
      "1136      666610489  1307669133 2019-08-13    92550     A\n",
      "744      3668308183   888512513 2019-08-27    86620     B\n",
      "743      3603576309  4133034833 2019-08-09    67990     A\n",
      "1103     1348774318  1164614297 2019-08-12    66350     A\n",
      "1099      316924019   148427295 2019-08-12    65710     A\n",
      "949      1347999392   887908475 2019-08-21    60450     A\n",
      "940      2420050534  4003628586 2019-08-08    58550     B\n",
      "131      3163614039  2254586615 2019-08-22    53904     A\n",
      "287       587872075  2254456485 2019-08-24    53904     A\n",
      "613      4071177889  3931967268 2019-08-07    53904     B\n",
      "1006     1861540412  2261934787 2019-08-10    52900     A\n",
      "1142     3815014015  2606908679 2019-08-13    52900     B\n",
      "1137     2183069967   759473111 2019-08-13    52480     A\n",
      "746      1589082866  3321013705 2019-08-27    49495     A\n",
      "709       514501382   950626008 2019-08-07    45880     A\n",
      "755      1234615529  2279926127 2019-08-30    45780     B\n",
      "530      3970235543  2912540959 2019-08-19    43990     A\n",
      "648      1646402801   382846391 2019-08-26    43690     A\n"
     ]
    }
   ],
   "source": [
    "# предвариатльено посмотрим на табличные значения с сортировкой по выручке от большего значения\n",
    "print(orders.sort_values(by='revenue', ascending=False).head(20)) "
   ]
  },
  {
   "cell_type": "markdown",
   "metadata": {},
   "source": [
    "Строим точечный график стоимостей заказов"
   ]
  },
  {
   "cell_type": "code",
   "execution_count": 30,
   "metadata": {},
   "outputs": [
    {
     "data": {
      "image/png": "[encoded data removed]",
      "text/plain": [
       "<Figure size 1080x360 with 1 Axes>"
      ]
     },
     "metadata": {
      "needs_background": "light"
     },
     "output_type": "display_data"
    }
   ],
   "source": [
    "x_values = pd.Series(range(0,len(orders['revenue'])))\n",
    "plt.figure(figsize=(15, 5)) \n",
    "plt.scatter(x_values, orders['revenue']) \n",
    "plt.title('график стоимостей заказов')\n",
    "plt.xlabel('количество пользлвателей')\n",
    "plt.ylabel('стоимость заказов')\n",
    "plt.show()"
   ]
  },
  {
   "cell_type": "markdown",
   "metadata": {},
   "source": [
    "Есть несколько дорогих закзов, которые могу существенно повлиять на средний показатель"
   ]
  },
  {
   "cell_type": "markdown",
   "metadata": {},
   "source": [
    "###  Расчет 95-й и 99-й перцентелей стоимости заказов**"
   ]
  },
  {
   "cell_type": "code",
   "execution_count": 31,
   "metadata": {},
   "outputs": [
    {
     "data": {
      "text/plain": [
       "array([26785., 53904.])"
      ]
     },
     "metadata": {},
     "output_type": "display_data"
    }
   ],
   "source": [
    "display(np.percentile(orders['revenue'], [95, 99])) "
   ]
  },
  {
   "cell_type": "markdown",
   "metadata": {},
   "source": [
    "5% заказов стоимостью 26785 и более, и только 1% зказов стоимостью 53904 и более. Примем за аномальное значение стоимость заказов 53904"
   ]
  },
  {
   "cell_type": "markdown",
   "metadata": {},
   "source": [
    "###  Рассчет статистической значимости различий в среднем количестве заказов на посетителя между группами по «сырым» данным"
   ]
  },
  {
   "cell_type": "markdown",
   "metadata": {},
   "source": [
    "Подготовим данные"
   ]
  },
  {
   "cell_type": "code",
   "execution_count": 32,
   "metadata": {},
   "outputs": [
    {
     "data": {
      "text/html": [
       "<div>\n",
       "<style scoped>\n",
       "    .dataframe tbody tr th:only-of-type {\n",
       "        vertical-align: middle;\n",
       "    }\n",
       "\n",
       "    .dataframe tbody tr th {\n",
       "        vertical-align: top;\n",
       "    }\n",
       "\n",
       "    .dataframe thead th {\n",
       "        text-align: right;\n",
       "    }\n",
       "</style>\n",
       "<table border=\"1\" class=\"dataframe\">\n",
       "  <thead>\n",
       "    <tr style=\"text-align: right;\">\n",
       "      <th></th>\n",
       "      <th>date</th>\n",
       "      <th>ordersPerDateA</th>\n",
       "      <th>revenuePerDateA</th>\n",
       "      <th>ordersPerDateB</th>\n",
       "      <th>revenuePerDateB</th>\n",
       "      <th>ordersCummulativeA</th>\n",
       "      <th>revenueCummulativeA</th>\n",
       "      <th>ordersCummulativeB</th>\n",
       "      <th>revenueCummulativeB</th>\n",
       "      <th>visitorsPerDateA</th>\n",
       "      <th>visitorsPerDateB</th>\n",
       "      <th>visitorsCummulativeA</th>\n",
       "      <th>visitorsCummulativeB</th>\n",
       "    </tr>\n",
       "  </thead>\n",
       "  <tbody>\n",
       "    <tr>\n",
       "      <th>0</th>\n",
       "      <td>2019-08-01</td>\n",
       "      <td>23</td>\n",
       "      <td>142779</td>\n",
       "      <td>17</td>\n",
       "      <td>59758</td>\n",
       "      <td>23</td>\n",
       "      <td>142779</td>\n",
       "      <td>17</td>\n",
       "      <td>59758</td>\n",
       "      <td>719</td>\n",
       "      <td>713</td>\n",
       "      <td>719</td>\n",
       "      <td>713</td>\n",
       "    </tr>\n",
       "    <tr>\n",
       "      <th>1</th>\n",
       "      <td>2019-08-02</td>\n",
       "      <td>19</td>\n",
       "      <td>91602</td>\n",
       "      <td>23</td>\n",
       "      <td>162043</td>\n",
       "      <td>42</td>\n",
       "      <td>234381</td>\n",
       "      <td>40</td>\n",
       "      <td>221801</td>\n",
       "      <td>619</td>\n",
       "      <td>581</td>\n",
       "      <td>1338</td>\n",
       "      <td>1294</td>\n",
       "    </tr>\n",
       "    <tr>\n",
       "      <th>2</th>\n",
       "      <td>2019-08-03</td>\n",
       "      <td>24</td>\n",
       "      <td>112473</td>\n",
       "      <td>14</td>\n",
       "      <td>67049</td>\n",
       "      <td>66</td>\n",
       "      <td>346854</td>\n",
       "      <td>54</td>\n",
       "      <td>288850</td>\n",
       "      <td>507</td>\n",
       "      <td>509</td>\n",
       "      <td>1845</td>\n",
       "      <td>1803</td>\n",
       "    </tr>\n",
       "    <tr>\n",
       "      <th>3</th>\n",
       "      <td>2019-08-04</td>\n",
       "      <td>11</td>\n",
       "      <td>41176</td>\n",
       "      <td>14</td>\n",
       "      <td>96890</td>\n",
       "      <td>77</td>\n",
       "      <td>388030</td>\n",
       "      <td>68</td>\n",
       "      <td>385740</td>\n",
       "      <td>717</td>\n",
       "      <td>770</td>\n",
       "      <td>2562</td>\n",
       "      <td>2573</td>\n",
       "    </tr>\n",
       "    <tr>\n",
       "      <th>4</th>\n",
       "      <td>2019-08-05</td>\n",
       "      <td>22</td>\n",
       "      <td>86383</td>\n",
       "      <td>21</td>\n",
       "      <td>89908</td>\n",
       "      <td>99</td>\n",
       "      <td>474413</td>\n",
       "      <td>89</td>\n",
       "      <td>475648</td>\n",
       "      <td>756</td>\n",
       "      <td>707</td>\n",
       "      <td>3318</td>\n",
       "      <td>3280</td>\n",
       "    </tr>\n",
       "  </tbody>\n",
       "</table>\n",
       "</div>"
      ],
      "text/plain": [
       "        date  ordersPerDateA  revenuePerDateA  ordersPerDateB  \\\n",
       "0 2019-08-01              23           142779              17   \n",
       "1 2019-08-02              19            91602              23   \n",
       "2 2019-08-03              24           112473              14   \n",
       "3 2019-08-04              11            41176              14   \n",
       "4 2019-08-05              22            86383              21   \n",
       "\n",
       "   revenuePerDateB  ordersCummulativeA  revenueCummulativeA  \\\n",
       "0            59758                  23               142779   \n",
       "1           162043                  42               234381   \n",
       "2            67049                  66               346854   \n",
       "3            96890                  77               388030   \n",
       "4            89908                  99               474413   \n",
       "\n",
       "   ordersCummulativeB  revenueCummulativeB  visitorsPerDateA  \\\n",
       "0                  17                59758               719   \n",
       "1                  40               221801               619   \n",
       "2                  54               288850               507   \n",
       "3                  68               385740               717   \n",
       "4                  89               475648               756   \n",
       "\n",
       "   visitorsPerDateB  visitorsCummulativeA  visitorsCummulativeB  \n",
       "0               713                   719                   713  \n",
       "1               581                  1338                  1294  \n",
       "2               509                  1845                  1803  \n",
       "3               770                  2562                  2573  \n",
       "4               707                  3318                  3280  "
      ]
     },
     "metadata": {},
     "output_type": "display_data"
    }
   ],
   "source": [
    "# формируем датафрейм группы А\n",
    "visitorsADaily = visitors[visitors['group'] == 'A'][['date', 'visitors']]\n",
    "visitorsADaily.columns = ['date', 'visitorsPerDateA']\n",
    "\n",
    "# сформируем кумулятивные данные по дате и количеству посещений\n",
    "visitorsACummulative = visitorsADaily.apply(\n",
    "    lambda x: visitorsADaily[visitorsADaily['date'] <= x['date']].agg(\n",
    "        {'date': 'max', 'visitorsPerDateA': 'sum'}\n",
    "    ),\n",
    "    axis=1,\n",
    ")\n",
    "visitorsACummulative.columns = ['date', 'visitorsCummulativeA']\n",
    "\n",
    "# формируем датафрейм группы В\n",
    "visitorsBDaily = visitors[visitors['group'] == 'B'][['date', 'visitors']]\n",
    "visitorsBDaily.columns = ['date', 'visitorsPerDateB']\n",
    "\n",
    "# сформируем кумулятивные данные по дате и количеству посещений\n",
    "visitorsBCummulative = visitorsBDaily.apply(\n",
    "    lambda x: visitorsBDaily[visitorsBDaily['date'] <= x['date']].agg(\n",
    "        {'date': 'max', 'visitorsPerDateB': 'sum'}\n",
    "    ),\n",
    "    axis=1,\n",
    ")\n",
    "visitorsBCummulative.columns = ['date', 'visitorsCummulativeB']\n",
    "\n",
    "# сформируем кумулятивные данные по дате и сумме выручки\n",
    "ordersADaily = (\n",
    "    orders[orders['group'] == 'A'][['date', 'transactionId', 'visitorId', 'revenue']]\n",
    "    .groupby('date', as_index=False)\n",
    "    .agg({'transactionId': pd.Series.nunique, 'revenue': 'sum'})\n",
    ")\n",
    "ordersADaily.columns = ['date', 'ordersPerDateA', 'revenuePerDateA']\n",
    "\n",
    "ordersACummulative = ordersADaily.apply(\n",
    "    lambda x: ordersADaily[ordersADaily['date'] <= x['date']].agg(\n",
    "        {'date': 'max', 'ordersPerDateA': 'sum', 'revenuePerDateA': 'sum'}\n",
    "    ),\n",
    "    axis=1,\n",
    ").sort_values(by=['date'])\n",
    "ordersACummulative.columns = [\n",
    "    'date',\n",
    "    'ordersCummulativeA',\n",
    "    'revenueCummulativeA',\n",
    "]\n",
    "\n",
    "# сформируем кумулятивные данные по дате и сумме выручки\n",
    "ordersBDaily = (\n",
    "    orders[orders['group'] == 'B'][['date', 'transactionId', 'visitorId', 'revenue']]\n",
    "    .groupby('date', as_index=False)\n",
    "    .agg({'transactionId': pd.Series.nunique, 'revenue': 'sum'})\n",
    ")\n",
    "ordersBDaily.columns = ['date', 'ordersPerDateB', 'revenuePerDateB']\n",
    "\n",
    "ordersBCummulative = ordersBDaily.apply(\n",
    "    lambda x: ordersBDaily[ordersBDaily['date'] <= x['date']].agg(\n",
    "        {'date': 'max', 'ordersPerDateB': 'sum', 'revenuePerDateB': 'sum'}\n",
    "    ),\n",
    "    axis=1,\n",
    ").sort_values(by=['date'])\n",
    "ordersBCummulative.columns = [\n",
    "    'date',\n",
    "    'ordersCummulativeB',\n",
    "    'revenueCummulativeB',\n",
    "]\n",
    "\n",
    "# объединим полученные датафреймы для групп А и В\n",
    "data = (\n",
    "    ordersADaily.merge(\n",
    "        ordersBDaily, left_on='date', right_on='date', how='left'\n",
    "    )\n",
    "    .merge(ordersACummulative, left_on='date', right_on='date', how='left')\n",
    "    .merge(ordersBCummulative, left_on='date', right_on='date', how='left')\n",
    "    .merge(visitorsADaily, left_on='date', right_on='date', how='left')\n",
    "    .merge(visitorsBDaily, left_on='date', right_on='date', how='left')\n",
    "    .merge(visitorsACummulative, left_on='date', right_on='date', how='left')\n",
    "    .merge(visitorsBCummulative, left_on='date', right_on='date', how='left')\n",
    ")\n",
    "\n",
    "display(data.head(5)) "
   ]
  },
  {
   "cell_type": "markdown",
   "metadata": {},
   "source": [
    "Расчет статистической значимости различий в среднем количестве заказов на посетителя между группами по «сырым» данным"
   ]
  },
  {
   "cell_type": "markdown",
   "metadata": {},
   "source": [
    "Нулевая гипотеза H0 - статистическая значимость между группами А и В по среднему количеству заказов отсутствует\n",
    "\n",
    "Альтернативная гипотеза H1 - между группами А и В есть статистически значимое различие"
   ]
  },
  {
   "cell_type": "code",
   "execution_count": 33,
   "metadata": {},
   "outputs": [
    {
     "name": "stdout",
     "output_type": "stream",
     "text": [
      "p-value:  0.011\n",
      "Отностительная разница:  0.160\n"
     ]
    }
   ],
   "source": [
    "ordersByUsersA = (\n",
    "    orders[orders['group'] == 'A']\n",
    "    .groupby('visitorId', as_index=False)\n",
    "    .agg({'transactionId': pd.Series.nunique})\n",
    ")\n",
    "ordersByUsersA.columns = ['userId', 'orders']\n",
    "\n",
    "ordersByUsersB = (\n",
    "    orders[orders['group'] == 'B']\n",
    "    .groupby('visitorId', as_index=False)\n",
    "    .agg({'transactionId': pd.Series.nunique})\n",
    ")\n",
    "ordersByUsersB.columns = ['userId', 'orders']\n",
    "\n",
    "sampleA = pd.concat(\n",
    "    [\n",
    "        ordersByUsersA['orders'],\n",
    "        pd.Series(\n",
    "            0,\n",
    "            index=np.arange(\n",
    "                data['visitorsPerDateA'].sum() - len(ordersByUsersA['orders'])\n",
    "            ),\n",
    "            name='orders',\n",
    "        ),\n",
    "    ],\n",
    "    axis=0,\n",
    ")\n",
    "\n",
    "sampleB = pd.concat(\n",
    "    [\n",
    "        ordersByUsersB['orders'],\n",
    "        pd.Series(\n",
    "            0,\n",
    "            index=np.arange(\n",
    "                data['visitorsPerDateB'].sum() - len(ordersByUsersB['orders'])\n",
    "            ),\n",
    "            name='orders',\n",
    "        ),\n",
    "    ],\n",
    "    axis=0,\n",
    ")\n",
    "\n",
    "print('p-value: ', \"{0:.3f}\".format(st.mannwhitneyu(sampleA, sampleB)[1]))\n",
    "\n",
    "print('Отностительная разница: ', \"{0:.3f}\".format(sampleB.mean() / sampleA.mean() - 1))\n",
    " "
   ]
  },
  {
   "cell_type": "markdown",
   "metadata": {},
   "source": [
    "Уровень стат.значимости 1,1%, меньше p-value 0,05. Нулевую гипотезу о том, что разницы между группами по среднему количеству заказов следует отвергнуть. Высока вероятность, что разница между группами присутствует. Разница между группами составляет 16% в пользу группы B."
   ]
  },
  {
   "cell_type": "markdown",
   "metadata": {},
   "source": [
    "###  Рассчет статистической значимости различий в среднем чеке заказа между группами по «сырым» данным"
   ]
  },
  {
   "cell_type": "markdown",
   "metadata": {},
   "source": [
    "Нулевая гипотеза H0 - статистической разницы между группами А и В по среднему чеку отсутствуют\n",
    "\n",
    "Альтернативная гипотеза H1 - между группами А и В есть статистически значимое различие"
   ]
  },
  {
   "cell_type": "code",
   "execution_count": 34,
   "metadata": {},
   "outputs": [
    {
     "name": "stdout",
     "output_type": "stream",
     "text": [
      "p-value:  0.829\n",
      "Отностильная разница:  0.287\n"
     ]
    }
   ],
   "source": [
    "print('p-value: ', '{0:.3f}'.format(st.mannwhitneyu(orders[orders['group']=='A']['revenue'], orders[orders['group']=='B']['revenue'])[1]))\n",
    "print('Отностильная разница: ','{0:.3f}'.format(orders[orders['group']=='B']['revenue'].mean()/orders[orders['group']=='A']['revenue'].mean()-1)) "
   ]
  },
  {
   "cell_type": "markdown",
   "metadata": {},
   "source": [
    "Уровень стат.значимости 82,9%, значительно больше p-value 0,05. Нулевую гипотезу о равенстве стредних чеков не отвергаем. Высока вероятность, что разница по среднему чеку отсутствует. Наблюдается разница между группами 28,7% в пользу группы B, не является статистически значимым."
   ]
  },
  {
   "cell_type": "markdown",
   "metadata": {},
   "source": [
    "###  Рассчет статистической значимости различий в среднем количестве заказов на посетителя между группами по «очищенным» данным"
   ]
  },
  {
   "cell_type": "markdown",
   "metadata": {},
   "source": [
    "проверим сколько всего аномальных пользователей"
   ]
  },
  {
   "cell_type": "code",
   "execution_count": 35,
   "metadata": {},
   "outputs": [
    {
     "data": {
      "text/plain": [
       "507    4134830387\n",
       "743    4133034833\n",
       "430    4109358064\n",
       "940    4003628586\n",
       "416    3967698036\n",
       "dtype: int64"
      ]
     },
     "metadata": {},
     "output_type": "display_data"
    },
    {
     "data": {
      "text/plain": [
       "45"
      ]
     },
     "metadata": {},
     "output_type": "display_data"
    }
   ],
   "source": [
    "order_lim = np.percentile(ordersByUsers['orders'], 95)\n",
    "\n",
    "usersWithManyOrders = pd.concat(\n",
    "    [\n",
    "        ordersByUsersA[ordersByUsersA['orders'] > order_lim]['userId'],\n",
    "        ordersByUsersB[ordersByUsersB['orders'] > order_lim]['userId'],\n",
    "    ],\n",
    "    axis=0,\n",
    ")\n",
    "\n",
    "revenue_lim = np.percentile(orders['revenue'], 99)\n",
    "\n",
    "usersWithExpensiveOrders = orders[orders['revenue'] > revenue_lim]['visitorId']\n",
    "abnormalUsers = (\n",
    "    pd.concat([usersWithManyOrders, usersWithExpensiveOrders], axis=0)\n",
    "    .drop_duplicates()\n",
    "    .sort_values()\n",
    ")\n",
    "display(abnormalUsers.sort_values(ascending=False).head())\n",
    "display(abnormalUsers.shape[0]) "
   ]
  },
  {
   "cell_type": "markdown",
   "metadata": {},
   "source": [
    "Всего 31 аномальный пользователь"
   ]
  },
  {
   "cell_type": "markdown",
   "metadata": {},
   "source": [
    "Подготовим выборки количества заказов по пользователям по группам теста по очищенным данным"
   ]
  },
  {
   "cell_type": "code",
   "execution_count": 36,
   "metadata": {},
   "outputs": [],
   "source": [
    "sampleAFiltered = pd.concat(\n",
    "    [\n",
    "        ordersByUsersA[\n",
    "            np.logical_not(ordersByUsersA['userId'].isin(abnormalUsers))\n",
    "        ]['orders'],\n",
    "        pd.Series(\n",
    "            0,\n",
    "            index=np.arange(\n",
    "                data['visitorsPerDateA'].sum() - len(ordersByUsersA['orders'])\n",
    "            ),\n",
    "            name='orders',\n",
    "        ),\n",
    "    ],\n",
    "    axis=0,\n",
    ")\n",
    "\n",
    "sampleBFiltered = pd.concat(\n",
    "    [\n",
    "        ordersByUsersB[\n",
    "            np.logical_not(ordersByUsersB['userId'].isin(abnormalUsers))\n",
    "        ]['orders'],\n",
    "        pd.Series(\n",
    "            0,\n",
    "            index=np.arange(\n",
    "                data['visitorsPerDateB'].sum() - len(ordersByUsersB['orders'])\n",
    "            ),\n",
    "            name='orders',\n",
    "        ),\n",
    "    ],\n",
    "    axis=0,\n",
    ") "
   ]
  },
  {
   "cell_type": "markdown",
   "metadata": {},
   "source": [
    " Посчитаем статистическую значимость различий в среднем количестве заказов на посетителя между группами по «очищенным» данным"
   ]
  },
  {
   "cell_type": "raw",
   "metadata": {},
   "source": [
    "Нулевая гипотеза H0 - статистической значимости между группы А и В по среднему количеству заказов нет\n",
    "\n",
    "Альтернативная гипотеза H1 - между группами А и В есть статистически значимое различие"
   ]
  },
  {
   "cell_type": "code",
   "execution_count": 37,
   "metadata": {},
   "outputs": [
    {
     "name": "stdout",
     "output_type": "stream",
     "text": [
      "p-value:  0.008\n",
      "Отностильная разница:  0.188\n"
     ]
    }
   ],
   "source": [
    "print('p-value: ', '{0:.3f}'.format(st.mannwhitneyu(sampleAFiltered, sampleBFiltered)[1]))\n",
    "print('Отностильная разница: ', '{0:.3f}'.format(sampleBFiltered.mean()/sampleAFiltered.mean()-1)) "
   ]
  },
  {
   "cell_type": "markdown",
   "metadata": {},
   "source": [
    "Уровень стат.значимости 0,8%, меньше p-value 0,05. Нулевую гипотезу о том, что разницы между группами по среднему количеству заказов нет следует отвергнуть. Высока вероятность, что есть разница между группами. Относительная разница между группами после очистки составляет уже 18,8% против 16,0% неочищенных данных в пользу группы B."
   ]
  },
  {
   "cell_type": "markdown",
   "metadata": {},
   "source": [
    "###  Расчет статистической значимости различий в среднем чеке заказа между группами по «очищенным» данным."
   ]
  },
  {
   "cell_type": "markdown",
   "metadata": {},
   "source": [
    "Нулевая гипотеза H0 - группы А и В по среднему чеку равны\n",
    "\n",
    "Альтернативная гипотеза H1 - между группами А и В есть статистически значимое различие"
   ]
  },
  {
   "cell_type": "code",
   "execution_count": 38,
   "metadata": {},
   "outputs": [
    {
     "name": "stdout",
     "output_type": "stream",
     "text": [
      "p-value:  0.969\n",
      "Отностильная разница:  0.002\n"
     ]
    }
   ],
   "source": [
    "print('p-value: ',\n",
    "    '{0:.3f}'.format(\n",
    "        st.mannwhitneyu(\n",
    "            orders[\n",
    "                np.logical_and(\n",
    "                    orders['group'] == 'A',\n",
    "                    np.logical_not(orders['visitorId'].isin(abnormalUsers)),\n",
    "                )\n",
    "            ]['revenue'],\n",
    "            orders[\n",
    "                np.logical_and(\n",
    "                    orders['group'] == 'B',\n",
    "                    np.logical_not(orders['visitorId'].isin(abnormalUsers)),\n",
    "                )\n",
    "            ]['revenue'],\n",
    "        )[1]\n",
    "    )\n",
    ")\n",
    "\n",
    "print('Отностильная разница: ',\n",
    "    \"{0:.3f}\".format(\n",
    "        orders[\n",
    "            np.logical_and(\n",
    "                orders['group'] == 'B',\n",
    "                np.logical_not(orders['visitorId'].isin(abnormalUsers)),\n",
    "            )\n",
    "        ]['revenue'].mean()\n",
    "        / orders[\n",
    "            np.logical_and(\n",
    "                orders['group'] == 'A',\n",
    "                np.logical_not(orders['visitorId'].isin(abnormalUsers)),\n",
    "            )\n",
    "        ]['revenue'].mean()\n",
    "        - 1\n",
    "    )\n",
    ") "
   ]
  },
  {
   "cell_type": "markdown",
   "metadata": {},
   "source": [
    "P-value увеличился до 96,6% на очищенных данных. Статистическая значимость значительно больше 5%. Нулевая гипотеза о равенстве средних чеков не отвергается, также как и по неочищенным данным. Но относительная разница между сегментами существенно изменилась с 28,7% в пользу группы В по неочищенным данным до всего 0,2% в пользу группы А по очищенным данным. Не является статистичеси значимой"
   ]
  },
  {
   "cell_type": "markdown",
   "metadata": {},
   "source": [
    "- Есть статистически значимое различие по конверсии между группами как по сырым данным, так и после фильтрации аномалий.\n",
    "- По сырым данным нет статистически значимого различия по среднему чеку между группами. Однако после удаления аномалий статистически значимое различие есть.\n",
    "- График различия конверсии между группами сообщает, что результаты группы B лучше группы A: имеют тенденцию к росту, либо зафиксировались около среднего значения "
   ]
  },
  {
   "cell_type": "markdown",
   "metadata": {},
   "source": [
    "### График кумулятивной выручки по группам  по очищенным данным"
   ]
  },
  {
   "cell_type": "markdown",
   "metadata": {},
   "source": [
    "Построим графики для наглядной демонтрации полученных результатов"
   ]
  },
  {
   "cell_type": "markdown",
   "metadata": {},
   "source": [
    "Подготовим данные. Сформируем датафрейм очищенный от аномальных пользователей."
   ]
  },
  {
   "cell_type": "code",
   "execution_count": 39,
   "metadata": {},
   "outputs": [
    {
     "data": {
      "text/html": [
       "<div>\n",
       "<style scoped>\n",
       "    .dataframe tbody tr th:only-of-type {\n",
       "        vertical-align: middle;\n",
       "    }\n",
       "\n",
       "    .dataframe tbody tr th {\n",
       "        vertical-align: top;\n",
       "    }\n",
       "\n",
       "    .dataframe thead th {\n",
       "        text-align: right;\n",
       "    }\n",
       "</style>\n",
       "<table border=\"1\" class=\"dataframe\">\n",
       "  <thead>\n",
       "    <tr style=\"text-align: right;\">\n",
       "      <th></th>\n",
       "      <th>transactionId</th>\n",
       "      <th>visitorId</th>\n",
       "      <th>date</th>\n",
       "      <th>revenue</th>\n",
       "      <th>group</th>\n",
       "    </tr>\n",
       "  </thead>\n",
       "  <tbody>\n",
       "    <tr>\n",
       "      <th>0</th>\n",
       "      <td>3667963787</td>\n",
       "      <td>3312258926</td>\n",
       "      <td>2019-08-15</td>\n",
       "      <td>1650</td>\n",
       "      <td>B</td>\n",
       "    </tr>\n",
       "    <tr>\n",
       "      <th>1</th>\n",
       "      <td>2804400009</td>\n",
       "      <td>3642806036</td>\n",
       "      <td>2019-08-15</td>\n",
       "      <td>730</td>\n",
       "      <td>B</td>\n",
       "    </tr>\n",
       "    <tr>\n",
       "      <th>3</th>\n",
       "      <td>3797467345</td>\n",
       "      <td>1196621759</td>\n",
       "      <td>2019-08-15</td>\n",
       "      <td>9759</td>\n",
       "      <td>B</td>\n",
       "    </tr>\n",
       "    <tr>\n",
       "      <th>4</th>\n",
       "      <td>2282983706</td>\n",
       "      <td>2322279887</td>\n",
       "      <td>2019-08-15</td>\n",
       "      <td>2308</td>\n",
       "      <td>B</td>\n",
       "    </tr>\n",
       "    <tr>\n",
       "      <th>5</th>\n",
       "      <td>182168103</td>\n",
       "      <td>935554773</td>\n",
       "      <td>2019-08-15</td>\n",
       "      <td>2210</td>\n",
       "      <td>B</td>\n",
       "    </tr>\n",
       "    <tr>\n",
       "      <th>...</th>\n",
       "      <td>...</td>\n",
       "      <td>...</td>\n",
       "      <td>...</td>\n",
       "      <td>...</td>\n",
       "      <td>...</td>\n",
       "    </tr>\n",
       "    <tr>\n",
       "      <th>1190</th>\n",
       "      <td>38478481</td>\n",
       "      <td>1197745035</td>\n",
       "      <td>2019-08-14</td>\n",
       "      <td>8600</td>\n",
       "      <td>B</td>\n",
       "    </tr>\n",
       "    <tr>\n",
       "      <th>1191</th>\n",
       "      <td>3592955527</td>\n",
       "      <td>608641596</td>\n",
       "      <td>2019-08-14</td>\n",
       "      <td>16490</td>\n",
       "      <td>B</td>\n",
       "    </tr>\n",
       "    <tr>\n",
       "      <th>1192</th>\n",
       "      <td>2662137336</td>\n",
       "      <td>3733762160</td>\n",
       "      <td>2019-08-14</td>\n",
       "      <td>6490</td>\n",
       "      <td>B</td>\n",
       "    </tr>\n",
       "    <tr>\n",
       "      <th>1193</th>\n",
       "      <td>2203539145</td>\n",
       "      <td>370388673</td>\n",
       "      <td>2019-08-14</td>\n",
       "      <td>3190</td>\n",
       "      <td>A</td>\n",
       "    </tr>\n",
       "    <tr>\n",
       "      <th>1194</th>\n",
       "      <td>1807773912</td>\n",
       "      <td>573423106</td>\n",
       "      <td>2019-08-14</td>\n",
       "      <td>10550</td>\n",
       "      <td>A</td>\n",
       "    </tr>\n",
       "  </tbody>\n",
       "</table>\n",
       "<p>928 rows × 5 columns</p>\n",
       "</div>"
      ],
      "text/plain": [
       "      transactionId   visitorId       date  revenue group\n",
       "0        3667963787  3312258926 2019-08-15     1650     B\n",
       "1        2804400009  3642806036 2019-08-15      730     B\n",
       "3        3797467345  1196621759 2019-08-15     9759     B\n",
       "4        2282983706  2322279887 2019-08-15     2308     B\n",
       "5         182168103   935554773 2019-08-15     2210     B\n",
       "...             ...         ...        ...      ...   ...\n",
       "1190       38478481  1197745035 2019-08-14     8600     B\n",
       "1191     3592955527   608641596 2019-08-14    16490     B\n",
       "1192     2662137336  3733762160 2019-08-14     6490     B\n",
       "1193     2203539145   370388673 2019-08-14     3190     A\n",
       "1194     1807773912   573423106 2019-08-14    10550     A\n",
       "\n",
       "[928 rows x 5 columns]"
      ]
     },
     "metadata": {},
     "output_type": "display_data"
    }
   ],
   "source": [
    "orders_clean = orders[np.logical_not(orders['visitorId'].isin(abnormalUsers))]\n",
    "display(orders_clean)"
   ]
  },
  {
   "cell_type": "code",
   "execution_count": 40,
   "metadata": {},
   "outputs": [
    {
     "name": "stdout",
     "output_type": "stream",
     "text": [
      "        date group  orders  buyers  revenue  visitors\n",
      "0 2019-08-01     A      15      15    89858       719\n",
      "1 2019-08-01     B      17      17    59758       713\n",
      "2 2019-08-02     A      30      30   136341      1338\n",
      "3 2019-08-02     B      37      37   213431      1294\n",
      "4 2019-08-03     A      54      54   248814      1845\n",
      "5 2019-08-03     B      51      51   280480      1803\n",
      "6 2019-08-04     A      64      64   289880      2562\n",
      "7 2019-08-04     B      63      63   364520      2573\n",
      "8 2019-08-05     A      84      84   369473      3318\n",
      "9 2019-08-05     B      84      84   454428      3280\n"
     ]
    }
   ],
   "source": [
    "# создаем массив уникальных пар значений дат и групп теста\n",
    "datesGroups_clean = orders_clean[['date','group']].drop_duplicates()\n",
    "# получаем агрегированные кумулятивные по дням данные о заказах \n",
    "ordersAggregated_clean = datesGroups_clean.apply(lambda x: orders_clean[np.logical_and(orders_clean['date'] <= x['date'], orders_clean['group'] == x['group'])].agg({'date' : 'max', 'group' : 'max', 'transactionId' : 'nunique', 'visitorId' : 'nunique', 'revenue' : 'sum'}), axis=1).sort_values(by=['date','group'])\n",
    "\n",
    "# получаем агрегированные кумулятивные по дням данные о посетителях интернет-магазина \n",
    "visitorsAggregated_clean = datesGroups_clean.apply(lambda x: visitors[np.logical_and(visitors['date'] <= x['date'], visitors['group'] == x['group'])].agg({'date' : 'max', 'group' : 'max', 'visitors' : 'sum'}), axis=1).sort_values(by=['date','group'])\n",
    "\n",
    "# объединяем кумулятивные данные в одной таблице и присваиваем ее столбцам понятные названия\n",
    "cumulativeData_clean = ordersAggregated_clean.merge(visitorsAggregated_clean, left_on=['date', 'group'], right_on=['date', 'group'])\n",
    "cumulativeData_clean.columns = ['date', 'group', 'orders', 'buyers', 'revenue', 'visitors']\n",
    "\n",
    "print(cumulativeData_clean.head(10)) "
   ]
  },
  {
   "cell_type": "markdown",
   "metadata": {},
   "source": [
    "**Построим график кумулятивной выручки по группам  по очищенным данным**"
   ]
  },
  {
   "cell_type": "code",
   "execution_count": 41,
   "metadata": {},
   "outputs": [
    {
     "data": {
      "image/png": "[encoded data removed]",
      "text/plain": [
       "<Figure size 1080x360 with 1 Axes>"
      ]
     },
     "metadata": {
      "needs_background": "light"
     },
     "output_type": "display_data"
    }
   ],
   "source": [
    "# датафрейм с кумулятивным количеством заказов и кумулятивной выручкой по дням в группе А\n",
    "cumulativeRevenueA_clean = cumulativeData_clean[cumulativeData_clean['group']=='A'][['date','revenue', 'orders']]\n",
    "\n",
    "# датафрейм с кумулятивным количеством заказов и кумулятивной выручкой по дням в группе B\n",
    "cumulativeRevenueB_clean = cumulativeData_clean[cumulativeData_clean['group']=='B'][['date','revenue', 'orders']]\n",
    "\n",
    "# зададим размер графика\n",
    "plt.figure(figsize=(15, 5))\n",
    "# Строим график выручки группы А\n",
    "plt.plot(cumulativeRevenueA_clean['date'], cumulativeRevenueA_clean['revenue'], label='A')\n",
    "\n",
    "# Строим график выручки группы B\n",
    "plt.plot(cumulativeRevenueB_clean['date'], cumulativeRevenueB_clean['revenue'], label='B')\n",
    "\n",
    "plt.title('график кумулятивной выручки по группам  по очищенным данным')\n",
    "plt.xlabel('дата')\n",
    "plt.ylabel('выручка')\n",
    "\n",
    "plt.legend() \n",
    "plt.show()"
   ]
  },
  {
   "cell_type": "markdown",
   "metadata": {},
   "source": [
    "После очистки данных видно, что резких всплесков в группе В уже нет. Рост в обеих группах равномерный, группа В имеет приемущество по кумелятивной выручке"
   ]
  },
  {
   "cell_type": "markdown",
   "metadata": {},
   "source": [
    "### График кумулятивного среднего чека по группам по очищенным данным"
   ]
  },
  {
   "cell_type": "code",
   "execution_count": 42,
   "metadata": {},
   "outputs": [
    {
     "data": {
      "image/png": "[encoded data removed]",
      "text/plain": [
       "<Figure size 1080x360 with 1 Axes>"
      ]
     },
     "metadata": {
      "needs_background": "light"
     },
     "output_type": "display_data"
    }
   ],
   "source": [
    "\n",
    "# зададим размер графика\n",
    "plt.figure(figsize=(15, 5))\n",
    "\n",
    "plt.plot(cumulativeRevenueA_clean['date'], cumulativeRevenueA_clean['revenue']/cumulativeRevenueA_clean['orders'], label='A')\n",
    "plt.plot(cumulativeRevenueB_clean['date'], cumulativeRevenueB_clean['revenue']/cumulativeRevenueB_clean['orders'], label='B')\n",
    "plt.title('график кумулятивного среднего чека по группам по очищенным данным')\n",
    "plt.xlabel('дата')\n",
    "plt.ylabel('средний чек')\n",
    "plt.legend() \n",
    "plt.show()"
   ]
  },
  {
   "cell_type": "markdown",
   "metadata": {},
   "source": [
    "После очиски на графике среднего чека наблюдается колебания в обеих группах. Под конец теста средний размер чека в группе А становится больше, чем в группе В"
   ]
  },
  {
   "cell_type": "markdown",
   "metadata": {},
   "source": [
    "### График относительного изменения кумулятивного среднего чека группы B к группе A  по очищенным данным"
   ]
  },
  {
   "cell_type": "code",
   "execution_count": 43,
   "metadata": {},
   "outputs": [
    {
     "data": {
      "image/png": "[encoded data removed]",
      "text/plain": [
       "<Figure size 1080x360 with 1 Axes>"
      ]
     },
     "metadata": {
      "needs_background": "light"
     },
     "output_type": "display_data"
    }
   ],
   "source": [
    "# собираем данные в одном датафрейме\n",
    "mergedCumulativeRevenue_clean = cumulativeRevenueA_clean.merge(cumulativeRevenueB_clean, left_on='date', right_on='date', how='left', suffixes=['A', 'B'])\n",
    "\n",
    "# зададим размер графика\n",
    "plt.figure(figsize=(15, 5)) \n",
    "\n",
    "# cтроим отношение средних чеков\n",
    "plt.plot(mergedCumulativeRevenue_clean['date'], (mergedCumulativeRevenue_clean['revenueB']/mergedCumulativeRevenue_clean['ordersB'])/(mergedCumulativeRevenue_clean['revenueA']/mergedCumulativeRevenue_clean['ordersA'])-1)\n",
    "plt.title('график относительного изменения кумулятивного среднего чека группы B к группе A  по очищенным данным')\n",
    "plt.xlabel('дата')\n",
    "plt.ylabel('соотнощение кумулятивного среднего чека группы B к группе A')\n",
    "# добавляем ось X\n",
    "plt.axhline(y=0, color='black', linestyle='--') \n",
    "plt.show()"
   ]
  },
  {
   "cell_type": "markdown",
   "metadata": {},
   "source": [
    "На графике относительного изменения кумулятивного среднего чека группы B к группе A  по очищенным данным наблюдается с4го дня некоторая стабилизация соотношения средних чеков. В конце теста незначительное приемущество по среднему чеку у группы А. "
   ]
  },
  {
   "cell_type": "markdown",
   "metadata": {},
   "source": [
    "## Итоги"
   ]
  },
  {
   "cell_type": "markdown",
   "metadata": {},
   "source": [
    "   В ходе проеденного А/В тетса получены следующие результаты:\n",
    "   \n",
    "- Есть статистически значимое различие по конверсии между группами как по сырым данным, так и после фильтрации аномалий. Для среднего количества заказов по сырым данным и очищенным уровень стат.значимости 1,1% и 0,8% соответственно, меньше p-value 5%. Нулевую гипотезу о том, что  нет разницы между группами по среднему количеству заказов следует отвергнуть. Высока вероятность, что разница между группами есть. Относительная разница между группами после очистки составляет уже 18,8% против 16% неочищенных данных в пользу группы B.\n",
    "    \n",
    "- По сырым данным и очищенным нет статистически значимого различия по среднему чеку между группами, но после очистки относительная разница между сегментами существенно изменилась с 28,7% в пользу группы В по неочищенным данным до всего 0,2% в пользу группы А по очищенным данным.\n",
    "    \n",
    "По полученным в ходе А/В теста результатам при соотвутствующих средних чеках в обеих группах, группа В имеет приемущество по конверсии заказов. А/В тест следует завершить, он оказался упешным. Результаты А/В теста следует предоставить отделу маркетинга для возможного дальнейшего разивитя по увеличению среднего чека. \n",
    "\n"
   ]
  }
 ],
 "metadata": {
  "ExecuteTimeLog": [
   {
    "duration": 1241,
    "start_time": "2024-12-23T11:22:03.717Z"
   },
   {
    "duration": 225,
    "start_time": "2024-12-23T11:22:58.919Z"
   },
   {
    "duration": 3,
    "start_time": "2024-12-23T11:31:22.449Z"
   },
   {
    "duration": 72,
    "start_time": "2024-12-23T11:31:22.920Z"
   },
   {
    "duration": 18,
    "start_time": "2024-12-23T11:40:20.317Z"
   },
   {
    "duration": 15,
    "start_time": "2024-12-23T11:40:37.552Z"
   },
   {
    "duration": 14,
    "start_time": "2024-12-23T11:40:58.003Z"
   },
   {
    "duration": 26,
    "start_time": "2024-12-23T11:52:28.532Z"
   },
   {
    "duration": 13,
    "start_time": "2024-12-23T11:52:29.990Z"
   },
   {
    "duration": 98,
    "start_time": "2024-12-23T11:57:58.456Z"
   },
   {
    "duration": 8,
    "start_time": "2024-12-23T12:00:57.444Z"
   },
   {
    "duration": 8,
    "start_time": "2024-12-23T12:02:07.772Z"
   },
   {
    "duration": 11,
    "start_time": "2024-12-23T12:03:30.358Z"
   },
   {
    "duration": 3,
    "start_time": "2024-12-23T12:03:38.875Z"
   },
   {
    "duration": 10,
    "start_time": "2024-12-23T12:04:02.798Z"
   },
   {
    "duration": 7,
    "start_time": "2024-12-23T12:04:34.250Z"
   },
   {
    "duration": 7,
    "start_time": "2024-12-23T12:19:22.113Z"
   },
   {
    "duration": 8,
    "start_time": "2024-12-23T12:19:30.755Z"
   },
   {
    "duration": 11,
    "start_time": "2024-12-23T12:19:51.675Z"
   },
   {
    "duration": 11,
    "start_time": "2024-12-23T12:19:55.585Z"
   },
   {
    "duration": 60,
    "start_time": "2024-12-23T12:34:13.933Z"
   },
   {
    "duration": 15,
    "start_time": "2024-12-23T12:34:22.658Z"
   },
   {
    "duration": 14,
    "start_time": "2024-12-23T12:34:23.874Z"
   },
   {
    "duration": 8,
    "start_time": "2024-12-23T12:34:31.764Z"
   },
   {
    "duration": 13,
    "start_time": "2024-12-23T12:35:07.279Z"
   },
   {
    "duration": 360,
    "start_time": "2024-12-23T12:44:24.990Z"
   },
   {
    "duration": 4,
    "start_time": "2024-12-23T12:45:13.072Z"
   },
   {
    "duration": 335,
    "start_time": "2024-12-23T12:45:17.863Z"
   },
   {
    "duration": 348,
    "start_time": "2024-12-23T12:45:38.175Z"
   },
   {
    "duration": 14,
    "start_time": "2024-12-23T12:46:24.805Z"
   },
   {
    "duration": 17,
    "start_time": "2024-12-23T12:47:19.654Z"
   },
   {
    "duration": 21,
    "start_time": "2024-12-23T12:47:23.154Z"
   },
   {
    "duration": 84,
    "start_time": "2024-12-23T12:50:58.738Z"
   },
   {
    "duration": 14,
    "start_time": "2024-12-23T12:50:59.118Z"
   },
   {
    "duration": 21,
    "start_time": "2024-12-23T12:56:22.387Z"
   },
   {
    "duration": 25,
    "start_time": "2024-12-23T12:56:48.141Z"
   },
   {
    "duration": 35,
    "start_time": "2024-12-23T12:56:57.043Z"
   },
   {
    "duration": 6,
    "start_time": "2024-12-23T13:08:36.331Z"
   },
   {
    "duration": 34,
    "start_time": "2024-12-23T13:10:22.782Z"
   },
   {
    "duration": 8,
    "start_time": "2024-12-23T13:11:58.544Z"
   },
   {
    "duration": 519,
    "start_time": "2024-12-23T13:18:49.021Z"
   },
   {
    "duration": 592,
    "start_time": "2024-12-23T13:23:34.977Z"
   },
   {
    "duration": 4,
    "start_time": "2024-12-23T13:28:56.524Z"
   },
   {
    "duration": 342,
    "start_time": "2024-12-23T13:29:34.938Z"
   },
   {
    "duration": 10,
    "start_time": "2024-12-23T13:29:56.181Z"
   },
   {
    "duration": 1057,
    "start_time": "2024-12-23T13:30:12.703Z"
   },
   {
    "duration": 27,
    "start_time": "2024-12-23T13:30:13.761Z"
   },
   {
    "duration": 18,
    "start_time": "2024-12-23T13:30:14.352Z"
   },
   {
    "duration": 3,
    "start_time": "2024-12-23T13:30:14.811Z"
   },
   {
    "duration": 12,
    "start_time": "2024-12-23T13:30:17.112Z"
   },
   {
    "duration": 13,
    "start_time": "2024-12-23T13:30:18.663Z"
   },
   {
    "duration": 60,
    "start_time": "2024-12-23T13:30:20.464Z"
   },
   {
    "duration": 16,
    "start_time": "2024-12-23T13:30:21.298Z"
   },
   {
    "duration": 15,
    "start_time": "2024-12-23T13:30:22.381Z"
   },
   {
    "duration": 4,
    "start_time": "2024-12-23T13:30:25.168Z"
   },
   {
    "duration": 10,
    "start_time": "2024-12-23T13:30:28.225Z"
   },
   {
    "duration": 13,
    "start_time": "2024-12-23T13:30:29.882Z"
   },
   {
    "duration": 340,
    "start_time": "2024-12-23T13:30:33.583Z"
   },
   {
    "duration": 20,
    "start_time": "2024-12-23T13:33:35.701Z"
   },
   {
    "duration": 268,
    "start_time": "2024-12-23T13:33:44.297Z"
   },
   {
    "duration": 232,
    "start_time": "2024-12-23T13:34:20.522Z"
   },
   {
    "duration": 180,
    "start_time": "2024-12-23T13:35:18.741Z"
   },
   {
    "duration": 181,
    "start_time": "2024-12-23T13:36:27.188Z"
   },
   {
    "duration": 254,
    "start_time": "2024-12-23T13:36:49.397Z"
   },
   {
    "duration": 157,
    "start_time": "2024-12-23T13:37:40.695Z"
   },
   {
    "duration": 166,
    "start_time": "2024-12-23T13:38:03.723Z"
   },
   {
    "duration": 163,
    "start_time": "2024-12-23T13:38:56.596Z"
   },
   {
    "duration": 177,
    "start_time": "2024-12-23T13:41:24.340Z"
   },
   {
    "duration": 213,
    "start_time": "2024-12-23T13:43:15.395Z"
   },
   {
    "duration": 169,
    "start_time": "2024-12-23T13:43:25.291Z"
   },
   {
    "duration": 148,
    "start_time": "2024-12-23T13:45:08.908Z"
   },
   {
    "duration": 165,
    "start_time": "2024-12-23T13:45:15.989Z"
   },
   {
    "duration": 137,
    "start_time": "2024-12-23T13:45:46.395Z"
   },
   {
    "duration": 161,
    "start_time": "2024-12-23T13:46:02.288Z"
   },
   {
    "duration": 298,
    "start_time": "2024-12-23T13:46:56.102Z"
   },
   {
    "duration": 252,
    "start_time": "2024-12-23T13:47:57.808Z"
   },
   {
    "duration": 250,
    "start_time": "2024-12-23T13:48:25.180Z"
   },
   {
    "duration": 240,
    "start_time": "2024-12-23T13:48:58.287Z"
   },
   {
    "duration": 159,
    "start_time": "2024-12-23T13:50:40.845Z"
   },
   {
    "duration": 125,
    "start_time": "2024-12-23T13:50:49.777Z"
   },
   {
    "duration": 165,
    "start_time": "2024-12-23T13:50:55.494Z"
   },
   {
    "duration": 383,
    "start_time": "2024-12-23T13:53:46.068Z"
   },
   {
    "duration": 139,
    "start_time": "2024-12-23T13:59:43.834Z"
   },
   {
    "duration": 390,
    "start_time": "2024-12-23T14:00:34.704Z"
   },
   {
    "duration": 238,
    "start_time": "2024-12-23T14:00:47.196Z"
   },
   {
    "duration": 179,
    "start_time": "2024-12-23T14:01:58.996Z"
   },
   {
    "duration": 173,
    "start_time": "2024-12-23T14:02:15.187Z"
   },
   {
    "duration": 156,
    "start_time": "2024-12-23T14:02:26.291Z"
   },
   {
    "duration": 187,
    "start_time": "2024-12-23T14:04:03.972Z"
   },
   {
    "duration": 167,
    "start_time": "2024-12-23T14:04:34.590Z"
   },
   {
    "duration": 173,
    "start_time": "2024-12-23T14:04:38.979Z"
   },
   {
    "duration": 153,
    "start_time": "2024-12-23T14:04:52.863Z"
   },
   {
    "duration": 186,
    "start_time": "2024-12-23T14:04:59.216Z"
   },
   {
    "duration": 94,
    "start_time": "2024-12-23T14:12:23.358Z"
   },
   {
    "duration": 266,
    "start_time": "2024-12-23T14:26:53.764Z"
   },
   {
    "duration": 260,
    "start_time": "2024-12-23T14:27:08.414Z"
   },
   {
    "duration": 267,
    "start_time": "2024-12-23T14:29:09.633Z"
   },
   {
    "duration": 254,
    "start_time": "2024-12-23T14:29:47.112Z"
   },
   {
    "duration": 322,
    "start_time": "2024-12-23T14:30:21.337Z"
   },
   {
    "duration": 188,
    "start_time": "2024-12-23T14:33:40.739Z"
   },
   {
    "duration": 190,
    "start_time": "2024-12-23T14:34:19.379Z"
   },
   {
    "duration": 190,
    "start_time": "2024-12-23T14:34:35.397Z"
   },
   {
    "duration": 264,
    "start_time": "2024-12-23T14:34:41.307Z"
   },
   {
    "duration": 206,
    "start_time": "2024-12-23T14:35:45.550Z"
   },
   {
    "duration": 181,
    "start_time": "2024-12-23T14:37:11.669Z"
   },
   {
    "duration": 179,
    "start_time": "2024-12-23T14:37:59.704Z"
   },
   {
    "duration": 185,
    "start_time": "2024-12-23T14:38:11.351Z"
   },
   {
    "duration": 328,
    "start_time": "2024-12-23T14:42:58.550Z"
   },
   {
    "duration": 301,
    "start_time": "2024-12-23T14:43:17.967Z"
   },
   {
    "duration": 334,
    "start_time": "2024-12-23T14:44:16.825Z"
   },
   {
    "duration": 231,
    "start_time": "2024-12-23T14:44:56.597Z"
   },
   {
    "duration": 220,
    "start_time": "2024-12-23T14:45:42.836Z"
   },
   {
    "duration": 435,
    "start_time": "2024-12-23T14:46:27.064Z"
   },
   {
    "duration": 85,
    "start_time": "2024-12-23T14:48:27.657Z"
   },
   {
    "duration": 9,
    "start_time": "2024-12-23T14:51:41.791Z"
   },
   {
    "duration": 9,
    "start_time": "2024-12-23T14:53:28.200Z"
   },
   {
    "duration": 103,
    "start_time": "2024-12-23T14:53:33.465Z"
   },
   {
    "duration": 8,
    "start_time": "2024-12-23T14:53:54.326Z"
   },
   {
    "duration": 3,
    "start_time": "2024-12-23T14:56:42.870Z"
   },
   {
    "duration": 6,
    "start_time": "2024-12-23T14:58:35.475Z"
   },
   {
    "duration": 1338,
    "start_time": "2024-12-23T15:02:08.623Z"
   },
   {
    "duration": 116,
    "start_time": "2024-12-23T15:02:29.893Z"
   },
   {
    "duration": 5,
    "start_time": "2024-12-23T15:03:04.355Z"
   },
   {
    "duration": 118,
    "start_time": "2024-12-23T15:03:43.042Z"
   },
   {
    "duration": 5,
    "start_time": "2024-12-23T15:03:47.952Z"
   },
   {
    "duration": 4,
    "start_time": "2024-12-23T15:06:08.883Z"
   },
   {
    "duration": 11,
    "start_time": "2024-12-23T15:07:47.176Z"
   },
   {
    "duration": 8,
    "start_time": "2024-12-23T15:08:05.992Z"
   },
   {
    "duration": 130,
    "start_time": "2024-12-23T15:09:52.832Z"
   },
   {
    "duration": 151,
    "start_time": "2024-12-23T15:11:21.204Z"
   },
   {
    "duration": 12,
    "start_time": "2024-12-23T15:13:00.790Z"
   },
   {
    "duration": 142,
    "start_time": "2024-12-23T15:13:10.284Z"
   },
   {
    "duration": 5,
    "start_time": "2024-12-23T15:13:48.226Z"
   },
   {
    "duration": 1449,
    "start_time": "2024-12-24T06:17:59.303Z"
   },
   {
    "duration": 96,
    "start_time": "2024-12-24T06:18:00.755Z"
   },
   {
    "duration": 29,
    "start_time": "2024-12-24T06:18:00.854Z"
   },
   {
    "duration": 4,
    "start_time": "2024-12-24T06:18:00.885Z"
   },
   {
    "duration": 34,
    "start_time": "2024-12-24T06:18:00.893Z"
   },
   {
    "duration": 15,
    "start_time": "2024-12-24T06:18:00.928Z"
   },
   {
    "duration": 145,
    "start_time": "2024-12-24T06:18:00.959Z"
   },
   {
    "duration": 21,
    "start_time": "2024-12-24T06:18:01.106Z"
   },
   {
    "duration": 59,
    "start_time": "2024-12-24T06:18:01.129Z"
   },
   {
    "duration": 42,
    "start_time": "2024-12-24T06:18:01.190Z"
   },
   {
    "duration": 17,
    "start_time": "2024-12-24T06:18:01.234Z"
   },
   {
    "duration": 19,
    "start_time": "2024-12-24T06:18:01.253Z"
   },
   {
    "duration": 32,
    "start_time": "2024-12-24T06:18:01.274Z"
   },
   {
    "duration": 332,
    "start_time": "2024-12-24T06:18:01.310Z"
   },
   {
    "duration": 349,
    "start_time": "2024-12-24T06:18:01.644Z"
   },
   {
    "duration": 252,
    "start_time": "2024-12-24T06:18:01.995Z"
   },
   {
    "duration": 414,
    "start_time": "2024-12-24T06:18:02.249Z"
   },
   {
    "duration": 275,
    "start_time": "2024-12-24T06:18:02.665Z"
   },
   {
    "duration": 403,
    "start_time": "2024-12-24T06:18:02.941Z"
   },
   {
    "duration": 15,
    "start_time": "2024-12-24T06:18:03.346Z"
   },
   {
    "duration": 168,
    "start_time": "2024-12-24T06:18:03.364Z"
   },
   {
    "duration": 6,
    "start_time": "2024-12-24T06:18:03.535Z"
   },
   {
    "duration": 11,
    "start_time": "2024-12-24T06:18:03.559Z"
   },
   {
    "duration": 198,
    "start_time": "2024-12-24T06:18:03.572Z"
   },
   {
    "duration": 5,
    "start_time": "2024-12-24T06:18:03.773Z"
   },
   {
    "duration": 142,
    "start_time": "2024-12-24T06:29:18.483Z"
   },
   {
    "duration": 117,
    "start_time": "2024-12-24T06:29:51.163Z"
   },
   {
    "duration": 1132,
    "start_time": "2024-12-24T06:30:19.273Z"
   },
   {
    "duration": 1029,
    "start_time": "2024-12-24T06:53:46.585Z"
   },
   {
    "duration": 203,
    "start_time": "2024-12-24T06:53:50.571Z"
   },
   {
    "duration": 0,
    "start_time": "2024-12-24T06:53:50.775Z"
   },
   {
    "duration": 1055,
    "start_time": "2024-12-24T06:54:00.339Z"
   },
   {
    "duration": 129,
    "start_time": "2024-12-24T06:57:18.338Z"
   },
   {
    "duration": 259,
    "start_time": "2024-12-24T06:59:41.549Z"
   },
   {
    "duration": 138,
    "start_time": "2024-12-24T07:00:08.636Z"
   },
   {
    "duration": 1195,
    "start_time": "2024-12-24T07:00:10.545Z"
   },
   {
    "duration": 165,
    "start_time": "2024-12-24T07:10:19.739Z"
   },
   {
    "duration": 151,
    "start_time": "2024-12-24T07:10:54.100Z"
   },
   {
    "duration": 1146,
    "start_time": "2024-12-24T07:11:19.029Z"
   },
   {
    "duration": 11,
    "start_time": "2024-12-24T07:11:27.744Z"
   },
   {
    "duration": 28,
    "start_time": "2024-12-24T07:11:34.123Z"
   },
   {
    "duration": 6,
    "start_time": "2024-12-24T07:12:58.082Z"
   },
   {
    "duration": 24,
    "start_time": "2024-12-24T07:13:03.776Z"
   },
   {
    "duration": 10,
    "start_time": "2024-12-24T07:13:20.496Z"
   },
   {
    "duration": 6,
    "start_time": "2024-12-24T07:13:28.395Z"
   },
   {
    "duration": 25,
    "start_time": "2024-12-24T07:13:28.772Z"
   },
   {
    "duration": 12,
    "start_time": "2024-12-24T07:17:33.546Z"
   },
   {
    "duration": 11,
    "start_time": "2024-12-24T07:17:40.884Z"
   },
   {
    "duration": 88,
    "start_time": "2024-12-24T07:19:52.654Z"
   },
   {
    "duration": 1149,
    "start_time": "2024-12-24T07:21:53.130Z"
   },
   {
    "duration": 981,
    "start_time": "2024-12-24T07:22:14.172Z"
   },
   {
    "duration": 1057,
    "start_time": "2024-12-24T07:22:54.476Z"
   },
   {
    "duration": 262,
    "start_time": "2024-12-24T07:23:46.909Z"
   },
   {
    "duration": 15,
    "start_time": "2024-12-24T07:27:37.983Z"
   },
   {
    "duration": 13,
    "start_time": "2024-12-24T07:27:56.634Z"
   },
   {
    "duration": 10,
    "start_time": "2024-12-24T07:28:06.976Z"
   },
   {
    "duration": 17,
    "start_time": "2024-12-24T07:28:17.254Z"
   },
   {
    "duration": 11,
    "start_time": "2024-12-24T07:28:35.789Z"
   },
   {
    "duration": 11,
    "start_time": "2024-12-24T07:28:47.117Z"
   },
   {
    "duration": 14,
    "start_time": "2024-12-24T07:29:08.676Z"
   },
   {
    "duration": 13,
    "start_time": "2024-12-24T08:10:48.704Z"
   },
   {
    "duration": 10,
    "start_time": "2024-12-24T08:11:03.311Z"
   },
   {
    "duration": 13,
    "start_time": "2024-12-24T08:11:08.775Z"
   },
   {
    "duration": 28,
    "start_time": "2024-12-24T08:11:14.998Z"
   },
   {
    "duration": 26,
    "start_time": "2024-12-24T08:11:24.569Z"
   },
   {
    "duration": 14,
    "start_time": "2024-12-24T08:12:16.855Z"
   },
   {
    "duration": 969,
    "start_time": "2024-12-24T08:12:38.885Z"
   },
   {
    "duration": 16,
    "start_time": "2024-12-24T08:15:48.209Z"
   },
   {
    "duration": 12,
    "start_time": "2024-12-24T08:31:38.913Z"
   },
   {
    "duration": 10,
    "start_time": "2024-12-24T09:34:33.427Z"
   },
   {
    "duration": 10,
    "start_time": "2024-12-24T09:34:34.820Z"
   },
   {
    "duration": 262,
    "start_time": "2024-12-24T12:26:05.107Z"
   },
   {
    "duration": 16,
    "start_time": "2024-12-24T12:30:21.678Z"
   },
   {
    "duration": 321,
    "start_time": "2024-12-24T12:31:23.333Z"
   },
   {
    "duration": 322,
    "start_time": "2024-12-24T12:31:33.228Z"
   },
   {
    "duration": 347,
    "start_time": "2024-12-24T12:32:10.581Z"
   },
   {
    "duration": 15,
    "start_time": "2024-12-24T12:32:38.406Z"
   },
   {
    "duration": 320,
    "start_time": "2024-12-24T12:32:38.435Z"
   },
   {
    "duration": 1366,
    "start_time": "2024-12-24T12:33:33.574Z"
   },
   {
    "duration": 34,
    "start_time": "2024-12-24T12:33:34.942Z"
   },
   {
    "duration": 24,
    "start_time": "2024-12-24T12:33:34.977Z"
   },
   {
    "duration": 7,
    "start_time": "2024-12-24T12:33:35.003Z"
   },
   {
    "duration": 40,
    "start_time": "2024-12-24T12:33:35.012Z"
   },
   {
    "duration": 47,
    "start_time": "2024-12-24T12:33:35.054Z"
   },
   {
    "duration": 120,
    "start_time": "2024-12-24T12:33:35.103Z"
   },
   {
    "duration": 22,
    "start_time": "2024-12-24T12:33:35.225Z"
   },
   {
    "duration": 43,
    "start_time": "2024-12-24T12:33:35.249Z"
   },
   {
    "duration": 37,
    "start_time": "2024-12-24T12:33:35.294Z"
   },
   {
    "duration": 24,
    "start_time": "2024-12-24T12:33:35.333Z"
   },
   {
    "duration": 29,
    "start_time": "2024-12-24T12:33:35.359Z"
   },
   {
    "duration": 43,
    "start_time": "2024-12-24T12:33:35.390Z"
   },
   {
    "duration": 38,
    "start_time": "2024-12-24T12:33:35.436Z"
   },
   {
    "duration": 344,
    "start_time": "2024-12-24T12:33:35.476Z"
   },
   {
    "duration": 372,
    "start_time": "2024-12-24T12:33:35.822Z"
   },
   {
    "duration": 277,
    "start_time": "2024-12-24T12:33:36.196Z"
   },
   {
    "duration": 355,
    "start_time": "2024-12-24T12:33:36.475Z"
   },
   {
    "duration": 301,
    "start_time": "2024-12-24T12:33:36.832Z"
   },
   {
    "duration": 422,
    "start_time": "2024-12-24T12:33:37.135Z"
   },
   {
    "duration": 18,
    "start_time": "2024-12-24T12:33:37.559Z"
   },
   {
    "duration": 171,
    "start_time": "2024-12-24T12:33:37.579Z"
   },
   {
    "duration": 20,
    "start_time": "2024-12-24T12:33:37.753Z"
   },
   {
    "duration": 20,
    "start_time": "2024-12-24T12:33:37.775Z"
   },
   {
    "duration": 230,
    "start_time": "2024-12-24T12:33:37.797Z"
   },
   {
    "duration": 6,
    "start_time": "2024-12-24T12:33:38.029Z"
   },
   {
    "duration": 365,
    "start_time": "2024-12-24T12:33:38.037Z"
   },
   {
    "duration": 201,
    "start_time": "2024-12-24T12:33:38.404Z"
   },
   {
    "duration": 13,
    "start_time": "2024-12-24T12:33:38.607Z"
   },
   {
    "duration": 19,
    "start_time": "2024-12-24T12:33:38.622Z"
   },
   {
    "duration": 15,
    "start_time": "2024-12-24T12:33:38.661Z"
   },
   {
    "duration": 27,
    "start_time": "2024-12-24T12:33:38.678Z"
   },
   {
    "duration": 17,
    "start_time": "2024-12-24T12:33:38.707Z"
   },
   {
    "duration": 45,
    "start_time": "2024-12-24T12:33:38.727Z"
   },
   {
    "duration": 352,
    "start_time": "2024-12-24T12:33:38.774Z"
   },
   {
    "duration": 285,
    "start_time": "2024-12-24T12:33:39.129Z"
   },
   {
    "duration": 296,
    "start_time": "2024-12-24T12:33:39.416Z"
   },
   {
    "duration": 422,
    "start_time": "2024-12-24T12:33:39.713Z"
   },
   {
    "duration": 324,
    "start_time": "2024-12-24T12:35:33.889Z"
   },
   {
    "duration": 125,
    "start_time": "2024-12-24T12:36:09.888Z"
   },
   {
    "duration": 13,
    "start_time": "2024-12-24T12:36:52.845Z"
   },
   {
    "duration": 253,
    "start_time": "2024-12-24T12:37:31.020Z"
   },
   {
    "duration": 346,
    "start_time": "2024-12-24T12:40:49.825Z"
   },
   {
    "duration": 270,
    "start_time": "2024-12-24T12:41:30.812Z"
   },
   {
    "duration": 247,
    "start_time": "2024-12-24T12:42:03.296Z"
   },
   {
    "duration": 406,
    "start_time": "2024-12-24T12:42:50.217Z"
   },
   {
    "duration": 84,
    "start_time": "2024-12-24T12:57:01.619Z"
   },
   {
    "duration": 16,
    "start_time": "2024-12-24T13:07:24.430Z"
   },
   {
    "duration": 323,
    "start_time": "2024-12-24T13:07:24.616Z"
   },
   {
    "duration": 268,
    "start_time": "2024-12-24T13:07:24.941Z"
   },
   {
    "duration": 251,
    "start_time": "2024-12-24T13:07:25.215Z"
   },
   {
    "duration": 373,
    "start_time": "2024-12-24T13:07:25.627Z"
   },
   {
    "duration": 1243,
    "start_time": "2024-12-24T15:26:05.305Z"
   },
   {
    "duration": 75,
    "start_time": "2024-12-24T15:26:06.550Z"
   },
   {
    "duration": 19,
    "start_time": "2024-12-24T15:26:06.626Z"
   },
   {
    "duration": 21,
    "start_time": "2024-12-24T15:26:06.647Z"
   },
   {
    "duration": 34,
    "start_time": "2024-12-24T15:26:06.669Z"
   },
   {
    "duration": 23,
    "start_time": "2024-12-24T15:26:06.705Z"
   },
   {
    "duration": 139,
    "start_time": "2024-12-24T15:26:06.729Z"
   },
   {
    "duration": 16,
    "start_time": "2024-12-24T15:26:06.870Z"
   },
   {
    "duration": 49,
    "start_time": "2024-12-24T15:26:06.887Z"
   },
   {
    "duration": 30,
    "start_time": "2024-12-24T15:26:06.938Z"
   },
   {
    "duration": 15,
    "start_time": "2024-12-24T15:26:06.970Z"
   },
   {
    "duration": 41,
    "start_time": "2024-12-24T15:26:06.987Z"
   },
   {
    "duration": 26,
    "start_time": "2024-12-24T15:26:07.030Z"
   },
   {
    "duration": 7,
    "start_time": "2024-12-24T15:26:07.058Z"
   },
   {
    "duration": 279,
    "start_time": "2024-12-24T15:26:07.066Z"
   },
   {
    "duration": 284,
    "start_time": "2024-12-24T15:26:07.346Z"
   },
   {
    "duration": 196,
    "start_time": "2024-12-24T15:26:07.631Z"
   },
   {
    "duration": 383,
    "start_time": "2024-12-24T15:26:07.829Z"
   },
   {
    "duration": 228,
    "start_time": "2024-12-24T15:26:08.213Z"
   },
   {
    "duration": 344,
    "start_time": "2024-12-24T15:26:08.442Z"
   },
   {
    "duration": 9,
    "start_time": "2024-12-24T15:26:08.787Z"
   },
   {
    "duration": 131,
    "start_time": "2024-12-24T15:26:08.797Z"
   },
   {
    "duration": 4,
    "start_time": "2024-12-24T15:26:08.930Z"
   },
   {
    "duration": 17,
    "start_time": "2024-12-24T15:26:08.935Z"
   },
   {
    "duration": 153,
    "start_time": "2024-12-24T15:26:08.954Z"
   },
   {
    "duration": 5,
    "start_time": "2024-12-24T15:26:09.108Z"
   },
   {
    "duration": 263,
    "start_time": "2024-12-24T15:26:09.114Z"
   },
   {
    "duration": 175,
    "start_time": "2024-12-24T15:26:09.380Z"
   },
   {
    "duration": 9,
    "start_time": "2024-12-24T15:26:09.556Z"
   },
   {
    "duration": 108,
    "start_time": "2024-12-24T15:26:09.567Z"
   },
   {
    "duration": 47,
    "start_time": "2024-12-24T15:26:09.677Z"
   },
   {
    "duration": 23,
    "start_time": "2024-12-24T15:26:09.726Z"
   },
   {
    "duration": 13,
    "start_time": "2024-12-24T15:26:09.751Z"
   },
   {
    "duration": 24,
    "start_time": "2024-12-24T15:26:09.765Z"
   },
   {
    "duration": 271,
    "start_time": "2024-12-24T15:26:09.790Z"
   },
   {
    "duration": 219,
    "start_time": "2024-12-24T15:26:10.063Z"
   },
   {
    "duration": 207,
    "start_time": "2024-12-24T15:26:10.283Z"
   },
   {
    "duration": 297,
    "start_time": "2024-12-24T15:26:10.491Z"
   },
   {
    "duration": 49,
    "start_time": "2024-12-25T08:28:29.923Z"
   },
   {
    "duration": 1371,
    "start_time": "2024-12-25T08:28:33.683Z"
   },
   {
    "duration": 70,
    "start_time": "2024-12-25T08:28:35.056Z"
   },
   {
    "duration": 19,
    "start_time": "2024-12-25T08:28:35.128Z"
   },
   {
    "duration": 18,
    "start_time": "2024-12-25T08:28:35.148Z"
   },
   {
    "duration": 24,
    "start_time": "2024-12-25T08:28:35.167Z"
   },
   {
    "duration": 18,
    "start_time": "2024-12-25T08:28:35.192Z"
   },
   {
    "duration": 155,
    "start_time": "2024-12-25T08:28:35.211Z"
   },
   {
    "duration": 16,
    "start_time": "2024-12-25T08:28:35.367Z"
   },
   {
    "duration": 80,
    "start_time": "2024-12-25T08:28:35.384Z"
   },
   {
    "duration": 24,
    "start_time": "2024-12-25T08:28:35.466Z"
   },
   {
    "duration": 6,
    "start_time": "2024-12-25T08:28:35.492Z"
   },
   {
    "duration": 26,
    "start_time": "2024-12-25T08:28:35.500Z"
   },
   {
    "duration": 27,
    "start_time": "2024-12-25T08:28:35.528Z"
   },
   {
    "duration": 8,
    "start_time": "2024-12-25T08:28:35.556Z"
   },
   {
    "duration": 289,
    "start_time": "2024-12-25T08:28:35.566Z"
   },
   {
    "duration": 286,
    "start_time": "2024-12-25T08:28:35.857Z"
   },
   {
    "duration": 211,
    "start_time": "2024-12-25T08:28:36.145Z"
   },
   {
    "duration": 365,
    "start_time": "2024-12-25T08:28:36.358Z"
   },
   {
    "duration": 263,
    "start_time": "2024-12-25T08:28:36.725Z"
   },
   {
    "duration": 319,
    "start_time": "2024-12-25T08:28:36.991Z"
   },
   {
    "duration": 11,
    "start_time": "2024-12-25T08:28:37.312Z"
   },
   {
    "duration": 149,
    "start_time": "2024-12-25T08:28:37.325Z"
   },
   {
    "duration": 6,
    "start_time": "2024-12-25T08:28:37.476Z"
   },
   {
    "duration": 9,
    "start_time": "2024-12-25T08:28:37.484Z"
   },
   {
    "duration": 186,
    "start_time": "2024-12-25T08:28:37.495Z"
   },
   {
    "duration": 5,
    "start_time": "2024-12-25T08:28:37.682Z"
   },
   {
    "duration": 316,
    "start_time": "2024-12-25T08:28:37.688Z"
   },
   {
    "duration": 161,
    "start_time": "2024-12-25T08:28:38.007Z"
   },
   {
    "duration": 10,
    "start_time": "2024-12-25T08:28:38.169Z"
   },
   {
    "duration": 20,
    "start_time": "2024-12-25T08:28:38.180Z"
   },
   {
    "duration": 13,
    "start_time": "2024-12-25T08:28:38.201Z"
   },
   {
    "duration": 41,
    "start_time": "2024-12-25T08:28:38.215Z"
   },
   {
    "duration": 15,
    "start_time": "2024-12-25T08:28:38.258Z"
   },
   {
    "duration": 23,
    "start_time": "2024-12-25T08:28:38.274Z"
   },
   {
    "duration": 415,
    "start_time": "2024-12-25T08:28:38.299Z"
   },
   {
    "duration": 243,
    "start_time": "2024-12-25T08:28:38.716Z"
   },
   {
    "duration": 245,
    "start_time": "2024-12-25T08:28:38.961Z"
   },
   {
    "duration": 306,
    "start_time": "2024-12-25T08:28:39.208Z"
   },
   {
    "duration": 154,
    "start_time": "2024-12-25T08:29:39.829Z"
   },
   {
    "duration": 142,
    "start_time": "2024-12-25T08:33:03.983Z"
   },
   {
    "duration": 200,
    "start_time": "2024-12-25T08:33:35.680Z"
   },
   {
    "duration": 147,
    "start_time": "2024-12-25T08:33:41.579Z"
   },
   {
    "duration": 1138,
    "start_time": "2024-12-25T09:12:27.529Z"
   },
   {
    "duration": 71,
    "start_time": "2024-12-25T09:12:28.670Z"
   },
   {
    "duration": 20,
    "start_time": "2024-12-25T09:12:28.742Z"
   },
   {
    "duration": 23,
    "start_time": "2024-12-25T09:12:28.763Z"
   },
   {
    "duration": 54,
    "start_time": "2024-12-25T09:12:28.788Z"
   },
   {
    "duration": 41,
    "start_time": "2024-12-25T09:12:28.844Z"
   },
   {
    "duration": 201,
    "start_time": "2024-12-25T09:12:28.886Z"
   },
   {
    "duration": 22,
    "start_time": "2024-12-25T09:12:29.089Z"
   },
   {
    "duration": 46,
    "start_time": "2024-12-25T09:12:29.113Z"
   },
   {
    "duration": 64,
    "start_time": "2024-12-25T09:12:29.161Z"
   },
   {
    "duration": 4,
    "start_time": "2024-12-25T09:12:29.227Z"
   },
   {
    "duration": 24,
    "start_time": "2024-12-25T09:12:29.232Z"
   },
   {
    "duration": 70,
    "start_time": "2024-12-25T09:12:29.258Z"
   },
   {
    "duration": 96,
    "start_time": "2024-12-25T09:12:29.330Z"
   },
   {
    "duration": 527,
    "start_time": "2024-12-25T09:12:29.427Z"
   },
   {
    "duration": 524,
    "start_time": "2024-12-25T09:12:29.956Z"
   },
   {
    "duration": 217,
    "start_time": "2024-12-25T09:12:30.482Z"
   },
   {
    "duration": 368,
    "start_time": "2024-12-25T09:12:30.701Z"
   },
   {
    "duration": 253,
    "start_time": "2024-12-25T09:12:31.071Z"
   },
   {
    "duration": 352,
    "start_time": "2024-12-25T09:12:31.325Z"
   },
   {
    "duration": 9,
    "start_time": "2024-12-25T09:12:31.678Z"
   },
   {
    "duration": 157,
    "start_time": "2024-12-25T09:12:31.689Z"
   },
   {
    "duration": 4,
    "start_time": "2024-12-25T09:12:31.848Z"
   },
   {
    "duration": 31,
    "start_time": "2024-12-25T09:12:31.854Z"
   },
   {
    "duration": 175,
    "start_time": "2024-12-25T09:12:31.886Z"
   },
   {
    "duration": 6,
    "start_time": "2024-12-25T09:12:32.063Z"
   },
   {
    "duration": 285,
    "start_time": "2024-12-25T09:12:32.071Z"
   },
   {
    "duration": 194,
    "start_time": "2024-12-25T09:12:32.358Z"
   },
   {
    "duration": 9,
    "start_time": "2024-12-25T09:12:32.554Z"
   },
   {
    "duration": 72,
    "start_time": "2024-12-25T09:12:32.565Z"
   },
   {
    "duration": 20,
    "start_time": "2024-12-25T09:12:32.639Z"
   },
   {
    "duration": 37,
    "start_time": "2024-12-25T09:12:32.661Z"
   },
   {
    "duration": 76,
    "start_time": "2024-12-25T09:12:32.699Z"
   },
   {
    "duration": 64,
    "start_time": "2024-12-25T09:12:32.777Z"
   },
   {
    "duration": 278,
    "start_time": "2024-12-25T09:12:32.843Z"
   },
   {
    "duration": 218,
    "start_time": "2024-12-25T09:12:33.123Z"
   },
   {
    "duration": 215,
    "start_time": "2024-12-25T09:12:33.342Z"
   },
   {
    "duration": 295,
    "start_time": "2024-12-25T09:12:33.558Z"
   },
   {
    "duration": 15,
    "start_time": "2024-12-25T10:01:52.055Z"
   },
   {
    "duration": 17,
    "start_time": "2024-12-25T10:02:05.753Z"
   },
   {
    "duration": 15,
    "start_time": "2024-12-25T10:02:18.003Z"
   },
   {
    "duration": 10,
    "start_time": "2024-12-25T10:02:33.071Z"
   },
   {
    "duration": 4,
    "start_time": "2024-12-25T10:04:05.838Z"
   },
   {
    "duration": 17,
    "start_time": "2024-12-25T12:25:57.398Z"
   },
   {
    "duration": 67,
    "start_time": "2024-12-25T12:26:05.186Z"
   },
   {
    "duration": 10,
    "start_time": "2024-12-25T12:26:21.680Z"
   },
   {
    "duration": 114,
    "start_time": "2024-12-25T12:26:46.705Z"
   },
   {
    "duration": 7,
    "start_time": "2024-12-25T12:26:53.058Z"
   },
   {
    "duration": 7,
    "start_time": "2024-12-25T12:28:08.537Z"
   },
   {
    "duration": 5,
    "start_time": "2024-12-25T12:28:12.207Z"
   },
   {
    "duration": 10,
    "start_time": "2024-12-25T12:28:32.232Z"
   },
   {
    "duration": 9,
    "start_time": "2024-12-25T12:30:32.281Z"
   },
   {
    "duration": 8,
    "start_time": "2024-12-25T12:30:32.456Z"
   },
   {
    "duration": 5,
    "start_time": "2024-12-25T12:30:33.000Z"
   },
   {
    "duration": 10,
    "start_time": "2024-12-25T12:30:33.514Z"
   },
   {
    "duration": 1141,
    "start_time": "2024-12-25T12:33:41.760Z"
   },
   {
    "duration": 26,
    "start_time": "2024-12-25T12:33:42.903Z"
   },
   {
    "duration": 17,
    "start_time": "2024-12-25T12:33:42.931Z"
   },
   {
    "duration": 3,
    "start_time": "2024-12-25T12:33:42.950Z"
   },
   {
    "duration": 22,
    "start_time": "2024-12-25T12:33:42.954Z"
   },
   {
    "duration": 11,
    "start_time": "2024-12-25T12:33:42.978Z"
   },
   {
    "duration": 50,
    "start_time": "2024-12-25T12:33:42.990Z"
   },
   {
    "duration": 16,
    "start_time": "2024-12-25T12:33:43.041Z"
   },
   {
    "duration": 19,
    "start_time": "2024-12-25T12:33:43.058Z"
   },
   {
    "duration": 21,
    "start_time": "2024-12-25T12:33:43.079Z"
   },
   {
    "duration": 4,
    "start_time": "2024-12-25T12:33:43.101Z"
   },
   {
    "duration": 11,
    "start_time": "2024-12-25T12:33:43.106Z"
   },
   {
    "duration": 10,
    "start_time": "2024-12-25T12:33:43.119Z"
   },
   {
    "duration": 27,
    "start_time": "2024-12-25T12:33:43.130Z"
   },
   {
    "duration": 11,
    "start_time": "2024-12-25T12:33:43.158Z"
   },
   {
    "duration": 8,
    "start_time": "2024-12-25T12:33:43.170Z"
   },
   {
    "duration": 10,
    "start_time": "2024-12-25T12:33:43.180Z"
   },
   {
    "duration": 11,
    "start_time": "2024-12-25T12:33:43.191Z"
   },
   {
    "duration": 292,
    "start_time": "2024-12-25T12:33:43.204Z"
   },
   {
    "duration": 277,
    "start_time": "2024-12-25T12:33:43.497Z"
   },
   {
    "duration": 215,
    "start_time": "2024-12-25T12:33:43.775Z"
   },
   {
    "duration": 279,
    "start_time": "2024-12-25T12:33:43.992Z"
   },
   {
    "duration": 230,
    "start_time": "2024-12-25T12:33:44.272Z"
   },
   {
    "duration": 300,
    "start_time": "2024-12-25T12:33:44.504Z"
   },
   {
    "duration": 9,
    "start_time": "2024-12-25T12:33:44.805Z"
   },
   {
    "duration": 171,
    "start_time": "2024-12-25T12:33:44.816Z"
   },
   {
    "duration": 5,
    "start_time": "2024-12-25T12:33:44.988Z"
   },
   {
    "duration": 7,
    "start_time": "2024-12-25T12:33:44.996Z"
   },
   {
    "duration": 230,
    "start_time": "2024-12-25T12:33:45.005Z"
   },
   {
    "duration": 5,
    "start_time": "2024-12-25T12:33:45.236Z"
   },
   {
    "duration": 292,
    "start_time": "2024-12-25T12:33:45.254Z"
   },
   {
    "duration": 145,
    "start_time": "2024-12-25T12:33:45.548Z"
   },
   {
    "duration": 9,
    "start_time": "2024-12-25T12:33:45.695Z"
   },
   {
    "duration": 14,
    "start_time": "2024-12-25T12:33:45.706Z"
   },
   {
    "duration": 8,
    "start_time": "2024-12-25T12:33:45.721Z"
   },
   {
    "duration": 54,
    "start_time": "2024-12-25T12:33:45.730Z"
   },
   {
    "duration": 19,
    "start_time": "2024-12-25T12:33:45.786Z"
   },
   {
    "duration": 105,
    "start_time": "2024-12-25T12:33:45.807Z"
   },
   {
    "duration": 250,
    "start_time": "2024-12-25T12:33:45.913Z"
   },
   {
    "duration": 212,
    "start_time": "2024-12-25T12:33:46.165Z"
   },
   {
    "duration": 204,
    "start_time": "2024-12-25T12:33:46.378Z"
   },
   {
    "duration": 307,
    "start_time": "2024-12-25T12:33:46.583Z"
   },
   {
    "duration": 88,
    "start_time": "2024-12-25T12:40:23.747Z"
   },
   {
    "duration": 7,
    "start_time": "2024-12-25T12:44:08.557Z"
   },
   {
    "duration": 153,
    "start_time": "2024-12-25T12:44:08.934Z"
   },
   {
    "duration": 5,
    "start_time": "2024-12-25T12:44:11.202Z"
   },
   {
    "duration": 131,
    "start_time": "2024-12-25T12:47:30.968Z"
   },
   {
    "duration": 11,
    "start_time": "2024-12-25T12:49:22.496Z"
   },
   {
    "duration": 13,
    "start_time": "2024-12-25T12:50:30.275Z"
   },
   {
    "duration": 92,
    "start_time": "2024-12-25T12:51:53.517Z"
   },
   {
    "duration": 12,
    "start_time": "2024-12-25T12:52:02.554Z"
   },
   {
    "duration": 12,
    "start_time": "2024-12-25T12:52:23.746Z"
   },
   {
    "duration": 11,
    "start_time": "2024-12-25T12:52:45.442Z"
   },
   {
    "duration": 11,
    "start_time": "2024-12-25T12:52:53.091Z"
   },
   {
    "duration": 12,
    "start_time": "2024-12-25T12:55:14.598Z"
   },
   {
    "duration": 12,
    "start_time": "2024-12-25T12:55:27.867Z"
   },
   {
    "duration": 12,
    "start_time": "2024-12-25T12:55:39.539Z"
   },
   {
    "duration": 11,
    "start_time": "2024-12-25T12:55:48.575Z"
   },
   {
    "duration": 964,
    "start_time": "2024-12-25T13:19:03.984Z"
   },
   {
    "duration": 1201,
    "start_time": "2024-12-25T13:24:25.149Z"
   },
   {
    "duration": 27,
    "start_time": "2024-12-25T13:24:26.353Z"
   },
   {
    "duration": 18,
    "start_time": "2024-12-25T13:24:26.381Z"
   },
   {
    "duration": 3,
    "start_time": "2024-12-25T13:24:26.400Z"
   },
   {
    "duration": 14,
    "start_time": "2024-12-25T13:24:26.404Z"
   },
   {
    "duration": 22,
    "start_time": "2024-12-25T13:24:26.420Z"
   },
   {
    "duration": 49,
    "start_time": "2024-12-25T13:24:26.443Z"
   },
   {
    "duration": 16,
    "start_time": "2024-12-25T13:24:26.493Z"
   },
   {
    "duration": 19,
    "start_time": "2024-12-25T13:24:26.511Z"
   },
   {
    "duration": 15,
    "start_time": "2024-12-25T13:24:26.532Z"
   },
   {
    "duration": 6,
    "start_time": "2024-12-25T13:24:26.548Z"
   },
   {
    "duration": 11,
    "start_time": "2024-12-25T13:24:26.555Z"
   },
   {
    "duration": 9,
    "start_time": "2024-12-25T13:24:26.567Z"
   },
   {
    "duration": 20,
    "start_time": "2024-12-25T13:24:26.577Z"
   },
   {
    "duration": 9,
    "start_time": "2024-12-25T13:24:26.599Z"
   },
   {
    "duration": 12,
    "start_time": "2024-12-25T13:24:26.610Z"
   },
   {
    "duration": 4,
    "start_time": "2024-12-25T13:24:26.624Z"
   },
   {
    "duration": 10,
    "start_time": "2024-12-25T13:24:26.653Z"
   },
   {
    "duration": 291,
    "start_time": "2024-12-25T13:24:26.665Z"
   },
   {
    "duration": 288,
    "start_time": "2024-12-25T13:24:26.958Z"
   },
   {
    "duration": 212,
    "start_time": "2024-12-25T13:24:27.247Z"
   },
   {
    "duration": 307,
    "start_time": "2024-12-25T13:24:27.460Z"
   },
   {
    "duration": 227,
    "start_time": "2024-12-25T13:24:27.769Z"
   },
   {
    "duration": 305,
    "start_time": "2024-12-25T13:24:27.998Z"
   },
   {
    "duration": 9,
    "start_time": "2024-12-25T13:24:28.304Z"
   },
   {
    "duration": 169,
    "start_time": "2024-12-25T13:24:28.314Z"
   },
   {
    "duration": 4,
    "start_time": "2024-12-25T13:24:28.485Z"
   },
   {
    "duration": 25,
    "start_time": "2024-12-25T13:24:28.491Z"
   },
   {
    "duration": 162,
    "start_time": "2024-12-25T13:24:28.517Z"
   },
   {
    "duration": 5,
    "start_time": "2024-12-25T13:24:28.680Z"
   },
   {
    "duration": 303,
    "start_time": "2024-12-25T13:24:28.686Z"
   },
   {
    "duration": 148,
    "start_time": "2024-12-25T13:24:28.991Z"
   },
   {
    "duration": 20,
    "start_time": "2024-12-25T13:24:29.141Z"
   },
   {
    "duration": 14,
    "start_time": "2024-12-25T13:24:29.162Z"
   },
   {
    "duration": 17,
    "start_time": "2024-12-25T13:24:29.177Z"
   },
   {
    "duration": 31,
    "start_time": "2024-12-25T13:24:29.195Z"
   },
   {
    "duration": 32,
    "start_time": "2024-12-25T13:24:29.228Z"
   },
   {
    "duration": 11,
    "start_time": "2024-12-25T13:24:29.261Z"
   },
   {
    "duration": 271,
    "start_time": "2024-12-25T13:24:29.274Z"
   },
   {
    "duration": 208,
    "start_time": "2024-12-25T13:24:29.547Z"
   },
   {
    "duration": 214,
    "start_time": "2024-12-25T13:24:29.757Z"
   },
   {
    "duration": 301,
    "start_time": "2024-12-25T13:24:29.972Z"
   },
   {
    "duration": 13,
    "start_time": "2024-12-25T13:30:50.109Z"
   },
   {
    "duration": 4,
    "start_time": "2024-12-25T13:44:29.956Z"
   },
   {
    "duration": 35,
    "start_time": "2024-12-25T13:44:29.962Z"
   },
   {
    "duration": 16,
    "start_time": "2024-12-25T13:44:29.998Z"
   },
   {
    "duration": 49,
    "start_time": "2024-12-25T13:44:30.015Z"
   },
   {
    "duration": 62,
    "start_time": "2024-12-25T13:44:30.066Z"
   },
   {
    "duration": 51,
    "start_time": "2024-12-25T13:44:30.130Z"
   },
   {
    "duration": 90,
    "start_time": "2024-12-25T13:44:30.183Z"
   },
   {
    "duration": 15,
    "start_time": "2024-12-25T13:44:30.275Z"
   },
   {
    "duration": 92,
    "start_time": "2024-12-25T13:44:30.293Z"
   },
   {
    "duration": 81,
    "start_time": "2024-12-25T13:44:30.387Z"
   },
   {
    "duration": 9,
    "start_time": "2024-12-25T13:44:30.469Z"
   },
   {
    "duration": 59,
    "start_time": "2024-12-25T13:44:30.479Z"
   },
   {
    "duration": 22,
    "start_time": "2024-12-25T13:44:30.540Z"
   },
   {
    "duration": 15,
    "start_time": "2024-12-25T13:44:30.563Z"
   },
   {
    "duration": 17,
    "start_time": "2024-12-25T13:44:30.579Z"
   },
   {
    "duration": 56,
    "start_time": "2024-12-25T13:44:30.598Z"
   },
   {
    "duration": 16,
    "start_time": "2024-12-25T13:44:30.655Z"
   },
   {
    "duration": 15,
    "start_time": "2024-12-25T13:44:30.673Z"
   },
   {
    "duration": 306,
    "start_time": "2024-12-25T13:44:30.689Z"
   },
   {
    "duration": 201,
    "start_time": "2024-12-25T13:44:30.996Z"
   },
   {
    "duration": 207,
    "start_time": "2024-12-25T13:44:31.199Z"
   },
   {
    "duration": 280,
    "start_time": "2024-12-25T13:44:31.407Z"
   },
   {
    "duration": 217,
    "start_time": "2024-12-25T13:44:31.690Z"
   },
   {
    "duration": 305,
    "start_time": "2024-12-25T13:44:31.909Z"
   },
   {
    "duration": 10,
    "start_time": "2024-12-25T13:44:32.215Z"
   },
   {
    "duration": 174,
    "start_time": "2024-12-25T13:44:32.226Z"
   },
   {
    "duration": 5,
    "start_time": "2024-12-25T13:44:32.401Z"
   },
   {
    "duration": 34,
    "start_time": "2024-12-25T13:44:32.407Z"
   },
   {
    "duration": 152,
    "start_time": "2024-12-25T13:44:32.442Z"
   },
   {
    "duration": 5,
    "start_time": "2024-12-25T13:44:32.595Z"
   },
   {
    "duration": 312,
    "start_time": "2024-12-25T13:44:32.601Z"
   },
   {
    "duration": 131,
    "start_time": "2024-12-25T13:44:32.915Z"
   },
   {
    "duration": 13,
    "start_time": "2024-12-25T13:44:33.047Z"
   },
   {
    "duration": 22,
    "start_time": "2024-12-25T13:44:33.061Z"
   },
   {
    "duration": 49,
    "start_time": "2024-12-25T13:44:33.084Z"
   },
   {
    "duration": 34,
    "start_time": "2024-12-25T13:44:33.134Z"
   },
   {
    "duration": 12,
    "start_time": "2024-12-25T13:44:33.170Z"
   },
   {
    "duration": 53,
    "start_time": "2024-12-25T13:44:33.183Z"
   },
   {
    "duration": 248,
    "start_time": "2024-12-25T13:44:33.237Z"
   },
   {
    "duration": 214,
    "start_time": "2024-12-25T13:44:33.486Z"
   },
   {
    "duration": 208,
    "start_time": "2024-12-25T13:44:33.701Z"
   },
   {
    "duration": 278,
    "start_time": "2024-12-25T13:44:33.911Z"
   },
   {
    "duration": 199,
    "start_time": "2024-12-25T13:49:09.608Z"
   },
   {
    "duration": 98,
    "start_time": "2024-12-25T13:50:53.340Z"
   },
   {
    "duration": 103,
    "start_time": "2024-12-25T13:56:37.731Z"
   },
   {
    "duration": 95,
    "start_time": "2024-12-25T13:59:41.547Z"
   },
   {
    "duration": 100,
    "start_time": "2024-12-25T14:00:31.546Z"
   },
   {
    "duration": 99,
    "start_time": "2024-12-25T14:01:25.677Z"
   },
   {
    "duration": 13,
    "start_time": "2024-12-25T14:13:51.844Z"
   },
   {
    "duration": 15,
    "start_time": "2024-12-25T14:15:20.476Z"
   },
   {
    "duration": 57,
    "start_time": "2024-12-25T14:20:58.965Z"
   },
   {
    "duration": 27,
    "start_time": "2024-12-25T14:21:52.097Z"
   },
   {
    "duration": 1305,
    "start_time": "2024-12-25T14:22:16.717Z"
   },
   {
    "duration": 1301,
    "start_time": "2024-12-25T14:22:31.283Z"
   },
   {
    "duration": 16,
    "start_time": "2024-12-25T14:24:51.271Z"
   },
   {
    "duration": 18,
    "start_time": "2024-12-25T14:25:04.634Z"
   },
   {
    "duration": 19,
    "start_time": "2024-12-25T14:25:39.643Z"
   },
   {
    "duration": 17,
    "start_time": "2024-12-25T14:28:33.664Z"
   },
   {
    "duration": 14,
    "start_time": "2024-12-25T14:28:53.904Z"
   },
   {
    "duration": 16,
    "start_time": "2024-12-25T14:29:21.019Z"
   },
   {
    "duration": 17,
    "start_time": "2024-12-25T14:29:40.434Z"
   },
   {
    "duration": 14,
    "start_time": "2024-12-25T14:29:50.158Z"
   },
   {
    "duration": 20,
    "start_time": "2024-12-25T14:29:59.291Z"
   },
   {
    "duration": 1295,
    "start_time": "2024-12-25T16:31:17.102Z"
   },
   {
    "duration": 80,
    "start_time": "2024-12-25T16:31:18.399Z"
   },
   {
    "duration": 20,
    "start_time": "2024-12-25T16:31:18.481Z"
   },
   {
    "duration": 3,
    "start_time": "2024-12-25T16:31:18.504Z"
   },
   {
    "duration": 35,
    "start_time": "2024-12-25T16:31:18.509Z"
   },
   {
    "duration": 11,
    "start_time": "2024-12-25T16:31:18.545Z"
   },
   {
    "duration": 59,
    "start_time": "2024-12-25T16:31:18.558Z"
   },
   {
    "duration": 137,
    "start_time": "2024-12-25T16:31:18.618Z"
   },
   {
    "duration": 16,
    "start_time": "2024-12-25T16:31:18.756Z"
   },
   {
    "duration": 18,
    "start_time": "2024-12-25T16:31:18.775Z"
   },
   {
    "duration": 14,
    "start_time": "2024-12-25T16:31:18.794Z"
   },
   {
    "duration": 3,
    "start_time": "2024-12-25T16:31:18.810Z"
   },
   {
    "duration": 9,
    "start_time": "2024-12-25T16:31:18.814Z"
   },
   {
    "duration": 7,
    "start_time": "2024-12-25T16:31:18.824Z"
   },
   {
    "duration": 10,
    "start_time": "2024-12-25T16:31:18.833Z"
   },
   {
    "duration": 50,
    "start_time": "2024-12-25T16:31:18.844Z"
   },
   {
    "duration": 7,
    "start_time": "2024-12-25T16:31:18.895Z"
   },
   {
    "duration": 5,
    "start_time": "2024-12-25T16:31:18.903Z"
   },
   {
    "duration": 10,
    "start_time": "2024-12-25T16:31:18.909Z"
   },
   {
    "duration": 279,
    "start_time": "2024-12-25T16:31:18.921Z"
   },
   {
    "duration": 304,
    "start_time": "2024-12-25T16:31:19.201Z"
   },
   {
    "duration": 211,
    "start_time": "2024-12-25T16:31:19.507Z"
   },
   {
    "duration": 323,
    "start_time": "2024-12-25T16:31:19.719Z"
   },
   {
    "duration": 216,
    "start_time": "2024-12-25T16:31:20.044Z"
   },
   {
    "duration": 352,
    "start_time": "2024-12-25T16:31:20.262Z"
   },
   {
    "duration": 8,
    "start_time": "2024-12-25T16:31:20.616Z"
   },
   {
    "duration": 182,
    "start_time": "2024-12-25T16:31:20.626Z"
   },
   {
    "duration": 5,
    "start_time": "2024-12-25T16:31:20.813Z"
   },
   {
    "duration": 27,
    "start_time": "2024-12-25T16:31:20.819Z"
   },
   {
    "duration": 207,
    "start_time": "2024-12-25T16:31:20.848Z"
   },
   {
    "duration": 5,
    "start_time": "2024-12-25T16:31:21.057Z"
   },
   {
    "duration": 220,
    "start_time": "2024-12-25T16:31:21.064Z"
   },
   {
    "duration": 156,
    "start_time": "2024-12-25T16:31:21.287Z"
   },
   {
    "duration": 10,
    "start_time": "2024-12-25T16:31:21.445Z"
   },
   {
    "duration": 17,
    "start_time": "2024-12-25T16:31:21.457Z"
   },
   {
    "duration": 9,
    "start_time": "2024-12-25T16:31:21.486Z"
   },
   {
    "duration": 21,
    "start_time": "2024-12-25T16:31:21.497Z"
   },
   {
    "duration": 14,
    "start_time": "2024-12-25T16:31:21.520Z"
   },
   {
    "duration": 26,
    "start_time": "2024-12-25T16:31:21.536Z"
   },
   {
    "duration": 283,
    "start_time": "2024-12-25T16:31:21.564Z"
   },
   {
    "duration": 209,
    "start_time": "2024-12-25T16:31:21.849Z"
   },
   {
    "duration": 214,
    "start_time": "2024-12-25T16:31:22.060Z"
   },
   {
    "duration": 316,
    "start_time": "2024-12-25T16:31:22.276Z"
   },
   {
    "duration": 110,
    "start_time": "2024-12-25T16:32:01.384Z"
   },
   {
    "duration": 17,
    "start_time": "2024-12-25T16:32:10.812Z"
   },
   {
    "duration": 21,
    "start_time": "2024-12-25T16:32:41.096Z"
   },
   {
    "duration": 12,
    "start_time": "2024-12-25T16:32:57.797Z"
   },
   {
    "duration": 13,
    "start_time": "2024-12-25T16:33:07.523Z"
   },
   {
    "duration": 17,
    "start_time": "2024-12-25T16:33:43.256Z"
   },
   {
    "duration": 16,
    "start_time": "2024-12-25T16:35:32.177Z"
   },
   {
    "duration": 15,
    "start_time": "2024-12-25T16:36:28.641Z"
   },
   {
    "duration": 13,
    "start_time": "2024-12-25T16:36:45.685Z"
   },
   {
    "duration": 83,
    "start_time": "2024-12-25T16:37:42.500Z"
   },
   {
    "duration": 22,
    "start_time": "2024-12-25T16:38:03.576Z"
   },
   {
    "duration": 14,
    "start_time": "2024-12-25T16:38:45.555Z"
   },
   {
    "duration": 14,
    "start_time": "2024-12-25T16:38:53.469Z"
   },
   {
    "duration": 14,
    "start_time": "2024-12-25T16:39:03.121Z"
   },
   {
    "duration": 1046,
    "start_time": "2024-12-25T16:39:42.236Z"
   },
   {
    "duration": 27,
    "start_time": "2024-12-25T16:39:43.286Z"
   },
   {
    "duration": 23,
    "start_time": "2024-12-25T16:39:43.314Z"
   },
   {
    "duration": 3,
    "start_time": "2024-12-25T16:39:43.339Z"
   },
   {
    "duration": 12,
    "start_time": "2024-12-25T16:39:43.344Z"
   },
   {
    "duration": 11,
    "start_time": "2024-12-25T16:39:43.358Z"
   },
   {
    "duration": 112,
    "start_time": "2024-12-25T16:39:43.371Z"
   },
   {
    "duration": 0,
    "start_time": "2024-12-25T16:39:43.487Z"
   },
   {
    "duration": 0,
    "start_time": "2024-12-25T16:39:43.488Z"
   },
   {
    "duration": 0,
    "start_time": "2024-12-25T16:39:43.490Z"
   },
   {
    "duration": 0,
    "start_time": "2024-12-25T16:39:43.491Z"
   },
   {
    "duration": 0,
    "start_time": "2024-12-25T16:39:43.492Z"
   },
   {
    "duration": 0,
    "start_time": "2024-12-25T16:39:43.493Z"
   },
   {
    "duration": 0,
    "start_time": "2024-12-25T16:39:43.495Z"
   },
   {
    "duration": 0,
    "start_time": "2024-12-25T16:39:43.496Z"
   },
   {
    "duration": 0,
    "start_time": "2024-12-25T16:39:43.497Z"
   },
   {
    "duration": 0,
    "start_time": "2024-12-25T16:39:43.498Z"
   },
   {
    "duration": 0,
    "start_time": "2024-12-25T16:39:43.500Z"
   },
   {
    "duration": 0,
    "start_time": "2024-12-25T16:39:43.501Z"
   },
   {
    "duration": 0,
    "start_time": "2024-12-25T16:39:43.502Z"
   },
   {
    "duration": 0,
    "start_time": "2024-12-25T16:39:43.504Z"
   },
   {
    "duration": 0,
    "start_time": "2024-12-25T16:39:43.505Z"
   },
   {
    "duration": 0,
    "start_time": "2024-12-25T16:39:43.506Z"
   },
   {
    "duration": 0,
    "start_time": "2024-12-25T16:39:43.508Z"
   },
   {
    "duration": 0,
    "start_time": "2024-12-25T16:39:43.510Z"
   },
   {
    "duration": 0,
    "start_time": "2024-12-25T16:39:43.511Z"
   },
   {
    "duration": 0,
    "start_time": "2024-12-25T16:39:43.513Z"
   },
   {
    "duration": 0,
    "start_time": "2024-12-25T16:39:43.514Z"
   },
   {
    "duration": 0,
    "start_time": "2024-12-25T16:39:43.515Z"
   },
   {
    "duration": 0,
    "start_time": "2024-12-25T16:39:43.517Z"
   },
   {
    "duration": 0,
    "start_time": "2024-12-25T16:39:43.518Z"
   },
   {
    "duration": 0,
    "start_time": "2024-12-25T16:39:43.520Z"
   },
   {
    "duration": 0,
    "start_time": "2024-12-25T16:39:43.521Z"
   },
   {
    "duration": 0,
    "start_time": "2024-12-25T16:39:43.522Z"
   },
   {
    "duration": 0,
    "start_time": "2024-12-25T16:39:43.524Z"
   },
   {
    "duration": 0,
    "start_time": "2024-12-25T16:39:43.587Z"
   },
   {
    "duration": 0,
    "start_time": "2024-12-25T16:39:43.588Z"
   },
   {
    "duration": 0,
    "start_time": "2024-12-25T16:39:43.590Z"
   },
   {
    "duration": 0,
    "start_time": "2024-12-25T16:39:43.591Z"
   },
   {
    "duration": 0,
    "start_time": "2024-12-25T16:39:43.592Z"
   },
   {
    "duration": 0,
    "start_time": "2024-12-25T16:39:43.594Z"
   },
   {
    "duration": 0,
    "start_time": "2024-12-25T16:39:43.595Z"
   },
   {
    "duration": 0,
    "start_time": "2024-12-25T16:39:43.597Z"
   },
   {
    "duration": 19,
    "start_time": "2024-12-25T16:40:29.425Z"
   },
   {
    "duration": 51,
    "start_time": "2024-12-25T16:43:11.995Z"
   },
   {
    "duration": 15,
    "start_time": "2024-12-25T16:44:56.518Z"
   },
   {
    "duration": 4,
    "start_time": "2024-12-25T16:45:08.382Z"
   },
   {
    "duration": 29,
    "start_time": "2024-12-25T16:45:08.388Z"
   },
   {
    "duration": 13,
    "start_time": "2024-12-25T16:45:08.419Z"
   },
   {
    "duration": 5,
    "start_time": "2024-12-25T16:45:08.434Z"
   },
   {
    "duration": 9,
    "start_time": "2024-12-25T16:45:08.440Z"
   },
   {
    "duration": 20,
    "start_time": "2024-12-25T16:45:08.450Z"
   },
   {
    "duration": 20,
    "start_time": "2024-12-25T16:45:08.471Z"
   },
   {
    "duration": 49,
    "start_time": "2024-12-25T16:45:08.492Z"
   },
   {
    "duration": 14,
    "start_time": "2024-12-25T16:45:08.544Z"
   },
   {
    "duration": 18,
    "start_time": "2024-12-25T16:45:08.560Z"
   },
   {
    "duration": 15,
    "start_time": "2024-12-25T16:45:08.580Z"
   },
   {
    "duration": 4,
    "start_time": "2024-12-25T16:45:08.597Z"
   },
   {
    "duration": 9,
    "start_time": "2024-12-25T16:45:08.603Z"
   },
   {
    "duration": 10,
    "start_time": "2024-12-25T16:45:08.614Z"
   },
   {
    "duration": 11,
    "start_time": "2024-12-25T16:45:08.625Z"
   },
   {
    "duration": 9,
    "start_time": "2024-12-25T16:45:08.638Z"
   },
   {
    "duration": 40,
    "start_time": "2024-12-25T16:45:08.648Z"
   },
   {
    "duration": 5,
    "start_time": "2024-12-25T16:45:08.689Z"
   },
   {
    "duration": 14,
    "start_time": "2024-12-25T16:45:08.695Z"
   },
   {
    "duration": 292,
    "start_time": "2024-12-25T16:45:08.711Z"
   },
   {
    "duration": 291,
    "start_time": "2024-12-25T16:45:09.005Z"
   },
   {
    "duration": 237,
    "start_time": "2024-12-25T16:45:09.297Z"
   },
   {
    "duration": 287,
    "start_time": "2024-12-25T16:45:09.536Z"
   },
   {
    "duration": 223,
    "start_time": "2024-12-25T16:45:09.827Z"
   },
   {
    "duration": 352,
    "start_time": "2024-12-25T16:45:10.051Z"
   },
   {
    "duration": 9,
    "start_time": "2024-12-25T16:45:10.404Z"
   },
   {
    "duration": 165,
    "start_time": "2024-12-25T16:45:10.414Z"
   },
   {
    "duration": 7,
    "start_time": "2024-12-25T16:45:10.581Z"
   },
   {
    "duration": 20,
    "start_time": "2024-12-25T16:45:10.590Z"
   },
   {
    "duration": 198,
    "start_time": "2024-12-25T16:45:10.611Z"
   },
   {
    "duration": 4,
    "start_time": "2024-12-25T16:45:10.811Z"
   },
   {
    "duration": 222,
    "start_time": "2024-12-25T16:45:10.816Z"
   },
   {
    "duration": 180,
    "start_time": "2024-12-25T16:45:11.039Z"
   },
   {
    "duration": 10,
    "start_time": "2024-12-25T16:45:11.221Z"
   },
   {
    "duration": 44,
    "start_time": "2024-12-25T16:45:11.233Z"
   },
   {
    "duration": 10,
    "start_time": "2024-12-25T16:45:11.278Z"
   },
   {
    "duration": 19,
    "start_time": "2024-12-25T16:45:11.290Z"
   },
   {
    "duration": 12,
    "start_time": "2024-12-25T16:45:11.311Z"
   },
   {
    "duration": 12,
    "start_time": "2024-12-25T16:45:11.324Z"
   },
   {
    "duration": 295,
    "start_time": "2024-12-25T16:45:11.337Z"
   },
   {
    "duration": 198,
    "start_time": "2024-12-25T16:45:11.634Z"
   },
   {
    "duration": 203,
    "start_time": "2024-12-25T16:45:11.833Z"
   },
   {
    "duration": 292,
    "start_time": "2024-12-25T16:45:12.038Z"
   },
   {
    "duration": 1442,
    "start_time": "2024-12-26T06:08:13.991Z"
   },
   {
    "duration": 75,
    "start_time": "2024-12-26T06:08:15.435Z"
   },
   {
    "duration": 21,
    "start_time": "2024-12-26T06:08:15.512Z"
   },
   {
    "duration": 11,
    "start_time": "2024-12-26T06:08:15.535Z"
   },
   {
    "duration": 22,
    "start_time": "2024-12-26T06:08:15.547Z"
   },
   {
    "duration": 14,
    "start_time": "2024-12-26T06:08:15.571Z"
   },
   {
    "duration": 73,
    "start_time": "2024-12-26T06:08:15.587Z"
   },
   {
    "duration": 169,
    "start_time": "2024-12-26T06:08:15.661Z"
   },
   {
    "duration": 21,
    "start_time": "2024-12-26T06:08:15.831Z"
   },
   {
    "duration": 26,
    "start_time": "2024-12-26T06:08:15.855Z"
   },
   {
    "duration": 34,
    "start_time": "2024-12-26T06:08:15.883Z"
   },
   {
    "duration": 8,
    "start_time": "2024-12-26T06:08:15.919Z"
   },
   {
    "duration": 27,
    "start_time": "2024-12-26T06:08:15.929Z"
   },
   {
    "duration": 17,
    "start_time": "2024-12-26T06:08:15.958Z"
   },
   {
    "duration": 18,
    "start_time": "2024-12-26T06:08:15.977Z"
   },
   {
    "duration": 24,
    "start_time": "2024-12-26T06:08:15.996Z"
   },
   {
    "duration": 24,
    "start_time": "2024-12-26T06:08:16.021Z"
   },
   {
    "duration": 83,
    "start_time": "2024-12-26T06:08:16.047Z"
   },
   {
    "duration": 37,
    "start_time": "2024-12-26T06:08:16.131Z"
   },
   {
    "duration": 311,
    "start_time": "2024-12-26T06:08:16.170Z"
   },
   {
    "duration": 323,
    "start_time": "2024-12-26T06:08:16.482Z"
   },
   {
    "duration": 232,
    "start_time": "2024-12-26T06:08:16.807Z"
   },
   {
    "duration": 405,
    "start_time": "2024-12-26T06:08:17.041Z"
   },
   {
    "duration": 243,
    "start_time": "2024-12-26T06:08:17.448Z"
   },
   {
    "duration": 338,
    "start_time": "2024-12-26T06:08:17.693Z"
   },
   {
    "duration": 10,
    "start_time": "2024-12-26T06:08:18.033Z"
   },
   {
    "duration": 303,
    "start_time": "2024-12-26T06:08:18.045Z"
   },
   {
    "duration": 5,
    "start_time": "2024-12-26T06:08:18.352Z"
   },
   {
    "duration": 25,
    "start_time": "2024-12-26T06:08:18.358Z"
   },
   {
    "duration": 271,
    "start_time": "2024-12-26T06:08:18.385Z"
   },
   {
    "duration": 13,
    "start_time": "2024-12-26T06:08:18.657Z"
   },
   {
    "duration": 305,
    "start_time": "2024-12-26T06:08:18.672Z"
   },
   {
    "duration": 163,
    "start_time": "2024-12-26T06:08:18.978Z"
   },
   {
    "duration": 10,
    "start_time": "2024-12-26T06:08:19.143Z"
   },
   {
    "duration": 88,
    "start_time": "2024-12-26T06:08:19.155Z"
   },
   {
    "duration": 14,
    "start_time": "2024-12-26T06:08:19.244Z"
   },
   {
    "duration": 44,
    "start_time": "2024-12-26T06:08:19.260Z"
   },
   {
    "duration": 16,
    "start_time": "2024-12-26T06:08:19.306Z"
   },
   {
    "duration": 14,
    "start_time": "2024-12-26T06:08:19.323Z"
   },
   {
    "duration": 304,
    "start_time": "2024-12-26T06:08:19.339Z"
   },
   {
    "duration": 239,
    "start_time": "2024-12-26T06:08:19.645Z"
   },
   {
    "duration": 249,
    "start_time": "2024-12-26T06:08:19.886Z"
   },
   {
    "duration": 375,
    "start_time": "2024-12-26T06:08:20.137Z"
   },
   {
    "duration": 1147,
    "start_time": "2025-02-12T17:26:27.189Z"
   },
   {
    "duration": 17,
    "start_time": "2025-02-12T17:26:28.339Z"
   },
   {
    "duration": 18,
    "start_time": "2025-02-12T17:26:28.358Z"
   },
   {
    "duration": 3,
    "start_time": "2025-02-12T17:26:28.378Z"
   },
   {
    "duration": 12,
    "start_time": "2025-02-12T17:26:28.383Z"
   },
   {
    "duration": 12,
    "start_time": "2025-02-12T17:26:28.396Z"
   },
   {
    "duration": 84,
    "start_time": "2025-02-12T17:26:28.409Z"
   },
   {
    "duration": 52,
    "start_time": "2025-02-12T17:26:28.495Z"
   },
   {
    "duration": 17,
    "start_time": "2025-02-12T17:26:28.548Z"
   },
   {
    "duration": 19,
    "start_time": "2025-02-12T17:26:28.567Z"
   },
   {
    "duration": 15,
    "start_time": "2025-02-12T17:26:28.588Z"
   },
   {
    "duration": 4,
    "start_time": "2025-02-12T17:26:28.605Z"
   },
   {
    "duration": 10,
    "start_time": "2025-02-12T17:26:28.610Z"
   },
   {
    "duration": 9,
    "start_time": "2025-02-12T17:26:28.657Z"
   },
   {
    "duration": 8,
    "start_time": "2025-02-12T17:26:28.667Z"
   },
   {
    "duration": 9,
    "start_time": "2025-02-12T17:26:28.677Z"
   },
   {
    "duration": 7,
    "start_time": "2025-02-12T17:26:28.687Z"
   },
   {
    "duration": 4,
    "start_time": "2025-02-12T17:26:28.696Z"
   },
   {
    "duration": 10,
    "start_time": "2025-02-12T17:26:28.701Z"
   },
   {
    "duration": 322,
    "start_time": "2025-02-12T17:26:28.712Z"
   },
   {
    "duration": 296,
    "start_time": "2025-02-12T17:26:29.035Z"
   },
   {
    "duration": 217,
    "start_time": "2025-02-12T17:26:29.333Z"
   },
   {
    "duration": 317,
    "start_time": "2025-02-12T17:26:29.552Z"
   },
   {
    "duration": 230,
    "start_time": "2025-02-12T17:26:29.871Z"
   },
   {
    "duration": 312,
    "start_time": "2025-02-12T17:26:30.102Z"
   },
   {
    "duration": 11,
    "start_time": "2025-02-12T17:26:30.415Z"
   },
   {
    "duration": 201,
    "start_time": "2025-02-12T17:26:30.428Z"
   },
   {
    "duration": 5,
    "start_time": "2025-02-12T17:26:30.630Z"
   },
   {
    "duration": 22,
    "start_time": "2025-02-12T17:26:30.636Z"
   },
   {
    "duration": 252,
    "start_time": "2025-02-12T17:26:30.659Z"
   },
   {
    "duration": 5,
    "start_time": "2025-02-12T17:26:30.913Z"
   },
   {
    "duration": 237,
    "start_time": "2025-02-12T17:26:30.920Z"
   },
   {
    "duration": 160,
    "start_time": "2025-02-12T17:26:31.159Z"
   },
   {
    "duration": 10,
    "start_time": "2025-02-12T17:26:31.320Z"
   },
   {
    "duration": 27,
    "start_time": "2025-02-12T17:26:31.332Z"
   },
   {
    "duration": 7,
    "start_time": "2025-02-12T17:26:31.361Z"
   },
   {
    "duration": 33,
    "start_time": "2025-02-12T17:26:31.370Z"
   },
   {
    "duration": 15,
    "start_time": "2025-02-12T17:26:31.404Z"
   },
   {
    "duration": 17,
    "start_time": "2025-02-12T17:26:31.420Z"
   },
   {
    "duration": 523,
    "start_time": "2025-02-12T17:26:31.439Z"
   },
   {
    "duration": 494,
    "start_time": "2025-02-12T17:26:31.966Z"
   },
   {
    "duration": 431,
    "start_time": "2025-02-12T17:26:32.462Z"
   },
   {
    "duration": 399,
    "start_time": "2025-02-12T17:26:32.895Z"
   }
  ],
  "kernelspec": {
   "display_name": "Python [conda env:base] *",
   "language": "python",
   "name": "conda-base-py"
  },
  "language_info": {
   "codemirror_mode": {
    "name": "ipython",
    "version": 3
   },
   "file_extension": ".py",
   "mimetype": "text/x-python",
   "name": "python",
   "nbconvert_exporter": "python",
   "pygments_lexer": "ipython3",
   "version": "3.12.4"
  },
  "toc": {
   "base_numbering": 1,
   "nav_menu": {},
   "number_sections": true,
   "sideBar": true,
   "skip_h1_title": true,
   "title_cell": "Table of Contents",
   "title_sidebar": "Contents",
   "toc_cell": false,
   "toc_position": {
    "height": "calc(100% - 180px)",
    "left": "10px",
    "top": "150px",
    "width": "249.074997px"
   },
   "toc_section_display": true,
   "toc_window_display": true
  }
 },
 "nbformat": 4,
 "nbformat_minor": 4
}
